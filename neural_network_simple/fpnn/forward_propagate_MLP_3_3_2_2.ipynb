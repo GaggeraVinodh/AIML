{
  "nbformat": 4,
  "nbformat_minor": 0,
  "metadata": {
    "kernelspec": {
      "display_name": "Python 3",
      "language": "python",
      "name": "python3"
    },
    "language_info": {
      "codemirror_mode": {
        "name": "ipython",
        "version": 3
      },
      "file_extension": ".py",
      "mimetype": "text/x-python",
      "name": "python",
      "nbconvert_exporter": "python",
      "pygments_lexer": "ipython3",
      "version": "3.8.5"
    },
    "colab": {
      "name": "forward_propagate_MLP_3_3_2_2.ipynb",
      "provenance": []
    }
  },
  "cells": [
    {
      "cell_type": "code",
      "metadata": {
        "id": "crwAwtbCWrZP"
      },
      "source": [
        "# Example of forward propagating input\n",
        "from math import exp\n"
      ],
      "execution_count": 1,
      "outputs": []
    },
    {
      "cell_type": "code",
      "metadata": {
        "id": "8WhzacbpWv_e"
      },
      "source": [
        "\n",
        "# Calculate neuron activation for an input\n",
        "def activate(weights, inputs):\n",
        "\t#print(inputs)\n",
        "\tactivation = weights[-1]\n",
        "\tfor i in range(len(weights)-1):\n",
        "\t\tactivation += weights[i] * inputs[i]\n",
        "\t\t#print(activation)\n",
        "\treturn activation\n",
        "\n"
      ],
      "execution_count": 2,
      "outputs": []
    },
    {
      "cell_type": "code",
      "metadata": {
        "id": "zmrmW56qWywF"
      },
      "source": [
        "\n",
        "# Transfer neuron activation\n",
        "def transfer(activation):\n",
        "    p= 1.0 / (1.0 + exp(-activation))\n",
        "    #print(p)\n",
        "    return 1.0 / (1.0 + exp(-activation))\n",
        "\n"
      ],
      "execution_count": 3,
      "outputs": []
    },
    {
      "cell_type": "code",
      "metadata": {
        "id": "NtIYcxqAW3cN"
      },
      "source": [
        "# Forward propagate input to a network output\n",
        "def forward_propagate(network, row):\n",
        "    inputs = row\n",
        "    for layer in network:\n",
        "\n",
        "        new_inputs = []\n",
        "        for neuron in layer:\n",
        "            #print(neuron)\n",
        "            activation = activate(neuron['weights'], inputs)\n",
        "            neuron['output'] = transfer(activation)\n",
        "            new_inputs.append(neuron['output'])\n",
        "        inputs = new_inputs\n",
        "    return inputs\n"
      ],
      "execution_count": 4,
      "outputs": []
    },
    {
      "cell_type": "code",
      "metadata": {
        "id": "rAytSMz4W6CN",
        "outputId": "8f5ed3f1-89f0-4a62-e6a4-a109525afeb7",
        "colab": {
          "base_uri": "https://localhost:8080/"
        }
      },
      "source": [
        "\n",
        "# test forward propagation\n",
        "network = [[{'weights': [0.13436424411240122, 0.8474337369372327, 0.32456985672351673, 0.763774618976614]},{'weights': [0.13436424411240122, 0.8474337369372327, 0.32456985672351673, 0.763774618976614]},{'weights': [0.2550690257394217, 0.49543508709194095, 0.4494910647887381, 0.651592972722763]}],\n",
        "[{'weights': [0.13436424411240122, 0.8474337369372327, 0.32456985672351673, 0.763774618976614]},{'weights': [0.13436424411240122, 0.8474337369372327, 0.32456985672351673, 0.763774618976614]}],\n",
        "\t\t[{'weights': [0.2550690257394217, 0.49543508709194095, 0.651592972722763]},{'weights': [0.2550690257394217, 0.49543508709194095,0.651592972722763]}]]\n",
        "row = [1, 0, 1, None]\n",
        "output = forward_propagate(network, row)\n",
        "print(output)"
      ],
      "execution_count": 5,
      "outputs": [
        {
          "output_type": "stream",
          "name": "stdout",
          "text": [
            "[0.7847943271120724, 0.7847943271120724]\n"
          ]
        }
      ]
    },
    {
      "cell_type": "code",
      "metadata": {
        "id": "nLA0pUJHW4SU"
      },
      "source": [
        ""
      ],
      "execution_count": null,
      "outputs": []
    }
  ]
}