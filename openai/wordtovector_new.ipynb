{
  "nbformat": 4,
  "nbformat_minor": 0,
  "metadata": {
    "colab": {
      "provenance": []
    },
    "kernelspec": {
      "name": "python3",
      "display_name": "Python 3"
    },
    "language_info": {
      "name": "python"
    }
  },
  "cells": [
    {
      "cell_type": "code",
      "source": [
        "import nltk\n",
        "nltk.download('gutenberg')\n",
        "nltk.download('punkt')"
      ],
      "metadata": {
        "id": "UYFqrQjjQNkB"
      },
      "execution_count": null,
      "outputs": []
    },
    {
      "cell_type": "code",
      "execution_count": null,
      "metadata": {
        "id": "gWupqHzmP9gX"
      },
      "outputs": [],
      "source": [
        "import re\n",
        "import numpy as np\n",
        "\n",
        "from gensim.models import Word2Vec\n",
        "from nltk.corpus import gutenberg\n",
        "from multiprocessing import Pool\n",
        "from scipy import spatial"
      ]
    },
    {
      "cell_type": "code",
      "source": [
        "sentences = list(gutenberg.sents('shakespeare-hamlet.txt'))   # import the corpus and convert into a list"
      ],
      "metadata": {
        "id": "nLGTx1ElQHrQ"
      },
      "execution_count": null,
      "outputs": []
    },
    {
      "cell_type": "code",
      "source": [
        "print('Type of corpus: ', type(sentences))\n",
        "print('Length of corpus: ', len(sentences))"
      ],
      "metadata": {
        "id": "H79mNNODQXUH"
      },
      "execution_count": null,
      "outputs": []
    },
    {
      "cell_type": "code",
      "source": [
        "print(sentences[0])    # title, author, and year\n",
        "print(sentences[1])\n",
        "print(sentences[10])"
      ],
      "metadata": {
        "id": "q8K0b3fGQZcn"
      },
      "execution_count": null,
      "outputs": []
    },
    {
      "cell_type": "code",
      "source": [
        "for i in range(len(sentences)):\n",
        "    sentences[i] = [word.lower() for word in sentences[i] if re.match('^[a-zA-Z]+', word)]"
      ],
      "metadata": {
        "id": "KsGHQriaQaG4"
      },
      "execution_count": null,
      "outputs": []
    },
    {
      "cell_type": "code",
      "source": [
        "print(sentences[0])    # title, author, and year\n",
        "print(sentences[1])\n",
        "print(sentences[10])"
      ],
      "metadata": {
        "id": "i1IQBT-yQaYY"
      },
      "execution_count": null,
      "outputs": []
    },
    {
      "cell_type": "code",
      "source": [
        "model = Word2Vec(sentences = sentences, sg = 1, window = 3, min_count = 1, workers = Pool()._processes)\n"
      ],
      "metadata": {
        "id": "EUK-e5DrQhZg"
      },
      "execution_count": null,
      "outputs": []
    },
    {
      "cell_type": "code",
      "source": [
        "model.init_sims(replace = True)"
      ],
      "metadata": {
        "id": "wFcfkUc4QhM_"
      },
      "execution_count": null,
      "outputs": []
    },
    {
      "cell_type": "code",
      "source": [
        "model.save('word2vec_model')"
      ],
      "metadata": {
        "id": "9dy3BoErQ0Go"
      },
      "execution_count": null,
      "outputs": []
    },
    {
      "cell_type": "code",
      "source": [
        "model = Word2Vec.load('word2vec_model')"
      ],
      "metadata": {
        "id": "ltBu0vLbQz__"
      },
      "execution_count": 38,
      "outputs": []
    },
    {
      "cell_type": "code",
      "source": [
        "#model.most_similar('hamlet')\n",
        "model.wv.most_similar('hamlet')\n"
      ],
      "metadata": {
        "colab": {
          "base_uri": "https://localhost:8080/"
        },
        "id": "Fvuc8orzRPMW",
        "outputId": "1df3301c-7252-45fe-dbea-84232a5b05dd"
      },
      "execution_count": 39,
      "outputs": [
        {
          "output_type": "execute_result",
          "data": {
            "text/plain": [
              "[('reason', 0.9987104535102844),\n",
              " ('dead', 0.9986807107925415),\n",
              " ('ile', 0.9986612796783447),\n",
              " ('horatio', 0.9986343383789062),\n",
              " ('two', 0.9986299872398376),\n",
              " ('heere', 0.9986132979393005),\n",
              " ('world', 0.9986080527305603),\n",
              " ('king', 0.9986052513122559),\n",
              " ('heare', 0.9985942244529724),\n",
              " ('from', 0.9985913038253784)]"
            ]
          },
          "metadata": {},
          "execution_count": 39
        }
      ]
    },
    {
      "cell_type": "code",
      "source": [
        "v1 = model.wv['king']\n",
        "v2 = model.wv['queen']\n",
        "print(v1)\n",
        "print(v2)"
      ],
      "metadata": {
        "colab": {
          "base_uri": "https://localhost:8080/"
        },
        "id": "wf6n5P9AUchC",
        "outputId": "e969e005-bcbc-4dae-9d37-d431e9188716"
      },
      "execution_count": 43,
      "outputs": [
        {
          "output_type": "stream",
          "name": "stdout",
          "text": [
            "[-0.13200471  0.11053427  0.01458333  0.04273205  0.02564077 -0.18892838\n",
            "  0.05394051  0.26555157 -0.09219054 -0.11531463 -0.07120125 -0.21528307\n",
            "  0.02676107  0.05519512  0.04952116 -0.06788786  0.09215337 -0.14337955\n",
            " -0.03087731 -0.24980982  0.09086442  0.02034402  0.00578244 -0.07992636\n",
            " -0.00765154  0.07374579 -0.04402784 -0.08158331 -0.15323159  0.01344854\n",
            "  0.11703616 -0.01879733  0.05075421 -0.17504732 -0.07793648  0.15497768\n",
            "  0.03952443 -0.06242166 -0.01269433 -0.21624823  0.03386062 -0.14263056\n",
            " -0.05806772 -0.04841816  0.1774672  -0.06501587 -0.14673246 -0.03649602\n",
            "  0.07646007  0.063236    0.04885631 -0.08014519 -0.10733274 -0.008708\n",
            " -0.04196176  0.02011758  0.05295971 -0.07893232 -0.19355714  0.0198132\n",
            " -0.00608211  0.03688582  0.02987324 -0.06613569 -0.14613402  0.14466299\n",
            " -0.0342656   0.08123542 -0.13944292  0.18671218 -0.01307575  0.10689269\n",
            "  0.13960764 -0.02791034  0.14600351  0.01476951  0.03136627 -0.01284634\n",
            " -0.14032122 -0.0405499  -0.04991655  0.01711943 -0.0446192   0.11228275\n",
            " -0.003645   -0.03427904  0.07977325  0.08609179  0.14321423  0.01996055\n",
            "  0.120227    0.05471501  0.0771718  -0.05477231  0.17528126  0.13206695\n",
            "  0.05024172 -0.10827825  0.01370493  0.07236687]\n",
            "[-0.1515952   0.07959061  0.00058102  0.01694592  0.03501387 -0.16646299\n",
            "  0.02831728  0.26287925 -0.10668966 -0.12305997 -0.04709017 -0.21936996\n",
            " -0.00976724  0.04506513  0.0504368  -0.0843842   0.06063722 -0.13914454\n",
            " -0.0495213  -0.2478775   0.10281263  0.0257098   0.02160097 -0.08273963\n",
            " -0.0374538   0.04204109 -0.04310748 -0.08008198 -0.14838307  0.04297873\n",
            "  0.1345258  -0.04400967  0.02575678 -0.1480425  -0.05447787  0.16428612\n",
            "  0.0163172  -0.04411784 -0.00725004 -0.25584543  0.01984012 -0.11265342\n",
            " -0.07064579 -0.01617557  0.22276254 -0.08042677 -0.179359   -0.05242927\n",
            "  0.06045827  0.04387837  0.0595355  -0.10248746 -0.14047465 -0.01385473\n",
            " -0.01558437 -0.00068068  0.05174934 -0.06305655 -0.16697583 -0.02466366\n",
            "  0.01329119  0.03732277  0.04173341 -0.08302788 -0.17468919  0.11281372\n",
            "  0.00131257  0.04115602 -0.16584818  0.20713893  0.00222607  0.09828731\n",
            "  0.13367803 -0.03770173  0.12175013  0.02301284  0.01109359 -0.02277636\n",
            " -0.12034643 -0.02541003 -0.01474959  0.03540142 -0.04416557  0.0765658\n",
            "  0.04115523 -0.06362527  0.04523082  0.09229884  0.13414983  0.0348068\n",
            "  0.09031764  0.085881    0.07198805 -0.07282535  0.17051822  0.13050352\n",
            "  0.02449015 -0.10655405  0.00528454  0.05466652]\n"
          ]
        }
      ]
    },
    {
      "cell_type": "code",
      "source": [
        "cosine_similarity(v1, v2)"
      ],
      "metadata": {
        "colab": {
          "base_uri": "https://localhost:8080/"
        },
        "id": "O9kgq3gaU-ZS",
        "outputId": "63b936ce-91b4-46c7-db0c-d1d4c0294580"
      },
      "execution_count": 42,
      "outputs": [
        {
          "output_type": "execute_result",
          "data": {
            "text/plain": [
              "0.976122260093689"
            ]
          },
          "metadata": {},
          "execution_count": 42
        }
      ]
    }
  ]
}