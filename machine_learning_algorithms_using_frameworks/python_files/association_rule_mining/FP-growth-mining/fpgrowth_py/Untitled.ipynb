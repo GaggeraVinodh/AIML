{
 "cells": [
  {
   "cell_type": "code",
   "execution_count": 1,
   "metadata": {},
   "outputs": [
    {
     "name": "stdout",
     "output_type": "stream",
     "text": [
      "[{'eggs'}, {'bacon', 'eggs'}, {'soup'}, {'bacon', 'soup'}, {'bacon'}]\n",
      "[[{'bacon'}, {'eggs'}, 0.6666666666666666], [{'eggs'}, {'bacon'}, 1.0], [{'bacon'}, {'soup'}, 0.6666666666666666], [{'soup'}, {'bacon'}, 1.0]]\n"
     ]
    }
   ],
   "source": [
    "from fpgrowth_py import fpgrowth\n",
    "itemSetList = [['eggs', 'bacon', 'soup'],\n",
    "                ['eggs', 'bacon', 'apple'],\n",
    "                ['soup', 'bacon', 'banana']]\n",
    "freqItemSet, rules = fpgrowth(itemSetList, minSupRatio=0.5, minConf=0.5)\n",
    "print(freqItemSet)\n",
    "print(rules)  \n",
    "# [[{'beer'}, {'rice'}, 0.6666666666666666], [{'rice'}, {'beer'}, 1.0]]\n",
    "# rules[0] --> rules[1], confidence = rules[2]"
   ]
  },
  {
   "cell_type": "code",
   "execution_count": null,
   "metadata": {},
   "outputs": [],
   "source": []
  }
 ],
 "metadata": {
  "kernelspec": {
   "display_name": "Python 3",
   "language": "python",
   "name": "python3"
  },
  "language_info": {
   "codemirror_mode": {
    "name": "ipython",
    "version": 3
   },
   "file_extension": ".py",
   "mimetype": "text/x-python",
   "name": "python",
   "nbconvert_exporter": "python",
   "pygments_lexer": "ipython3",
   "version": "3.8.5"
  }
 },
 "nbformat": 4,
 "nbformat_minor": 4
}
