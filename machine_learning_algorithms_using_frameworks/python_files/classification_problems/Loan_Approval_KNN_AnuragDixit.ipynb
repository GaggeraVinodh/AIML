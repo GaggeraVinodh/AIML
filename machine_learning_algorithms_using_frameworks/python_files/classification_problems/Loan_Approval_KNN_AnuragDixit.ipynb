{
  "nbformat": 4,
  "nbformat_minor": 0,
  "metadata": {
    "colab": {
      "provenance": []
    },
    "kernelspec": {
      "name": "python3",
      "display_name": "Python 3"
    },
    "language_info": {
      "name": "python"
    }
  },
  "cells": [
    {
      "cell_type": "code",
      "source": [
        "import pandas as pd\n",
        "from sklearn.model_selection import train_test_split\n",
        "from sklearn.preprocessing import LabelEncoder\n",
        "from sklearn.neighbors import KNeighborsClassifier\n",
        "from sklearn.metrics import accuracy_score"
      ],
      "metadata": {
        "id": "xRtU3rndTao5"
      },
      "execution_count": 1,
      "outputs": []
    },
    {
      "cell_type": "code",
      "source": [
        "data = pd.read_csv('https://raw.githubusercontent.com/enuguru/aiandml/master/machine_learning_algorithms_using_frameworks/python_files/classification/bank_loan_full/LoanApprovalPrediction.csv')\n",
        "data['Dependents'] = data['Dependents'].replace('3+', 3)\n",
        "data.dropna(inplace=True)"
      ],
      "metadata": {
        "id": "TjLqOnHuTcdQ"
      },
      "execution_count": 2,
      "outputs": []
    },
    {
      "cell_type": "code",
      "execution_count": 3,
      "metadata": {
        "id": "YKODJqxkTYaY"
      },
      "outputs": [],
      "source": [
        "label_encoder = LabelEncoder()\n",
        "data['Gender'] = label_encoder.fit_transform(data['Gender'])\n",
        "data['Married'] = label_encoder.fit_transform(data['Married'])\n",
        "data['Education'] = label_encoder.fit_transform(data['Education'])\n",
        "data['Self_Employed'] = label_encoder.fit_transform(data['Self_Employed'])\n",
        "data['Property_Area'] = label_encoder.fit_transform(data['Property_Area'])\n",
        "\n",
        "target_encoder = LabelEncoder()\n",
        "data['Loan_Status'] = target_encoder.fit_transform(data['Loan_Status'])\n",
        "\n",
        "X = data.drop(['Loan_ID', 'Loan_Status'], axis=1)\n",
        "y = data['Loan_Status']"
      ]
    },
    {
      "cell_type": "code",
      "source": [
        "X_train, X_test, y_train, y_test = train_test_split(X, y, test_size=0.2, random_state=42)\n",
        "k = 5\n",
        "knn_classifier = KNeighborsClassifier(n_neighbors=k)\n",
        "knn_classifier.fit(X_train, y_train)\n",
        "y_pred = knn_classifier.predict(X_test)\n",
        "print(X_test)\n",
        "print(y_pred)\n",
        "accuracy = accuracy_score(y_test, y_pred)\n",
        "print(\"Accuracy of KNN classifier:\", accuracy)"
      ],
      "metadata": {
        "colab": {
          "base_uri": "https://localhost:8080/"
        },
        "id": "WpcoJb5KTjSo",
        "outputId": "8fd81a28-1efa-4d6a-a2a3-240ee74f0972"
      },
      "execution_count": 7,
      "outputs": [
        {
          "output_type": "stream",
          "name": "stdout",
          "text": [
            "     Gender  Married Dependents  Education  Self_Employed  ApplicantIncome  \\\n",
            "92        1        1          2          1              0             3273   \n",
            "529       1        0          0          1              0             6783   \n",
            "505       1        1          2          0              0             3510   \n",
            "358       1        1          0          1              0             3000   \n",
            "512       1        1          2          0              0             3283   \n",
            "..      ...      ...        ...        ...            ...              ...   \n",
            "281       1        1          0          0              0             3927   \n",
            "299       1        1          1          0              0             2014   \n",
            "522       1        1          3          0              1             5677   \n",
            "33        1        1          0          0              0             3500   \n",
            "537       1        0          2          0              0             3617   \n",
            "\n",
            "     CoapplicantIncome  LoanAmount  Loan_Amount_Term  Credit_History  \\\n",
            "92              1820.0        81.0             360.0             1.0   \n",
            "529                0.0       130.0             360.0             1.0   \n",
            "505             4416.0       243.0             360.0             1.0   \n",
            "358             1666.0       100.0             480.0             0.0   \n",
            "512             2035.0       148.0             360.0             1.0   \n",
            "..                 ...         ...               ...             ...   \n",
            "281              800.0       112.0             360.0             1.0   \n",
            "299             2925.0       113.0             360.0             1.0   \n",
            "522             1424.0       100.0             360.0             1.0   \n",
            "33              1667.0       114.0             360.0             1.0   \n",
            "537                0.0       107.0             360.0             1.0   \n",
            "\n",
            "     Property_Area  \n",
            "92               2  \n",
            "529              1  \n",
            "505              0  \n",
            "358              2  \n",
            "512              2  \n",
            "..             ...  \n",
            "281              1  \n",
            "299              2  \n",
            "522              0  \n",
            "33               1  \n",
            "537              1  \n",
            "\n",
            "[96 rows x 11 columns]\n",
            "[1 1 1 1 1 0 1 1 1 1 1 0 1 0 0 1 1 0 1 1 1 1 1 1 1 1 1 1 1 1 1 1 1 1 1 1 1\n",
            " 1 1 1 1 1 0 1 1 1 0 1 1 1 0 1 1 0 1 1 1 0 0 1 1 1 1 1 1 1 1 1 1 1 1 1 1 1\n",
            " 1 0 1 1 1 1 1 1 1 1 1 1 1 1 0 0 1 1 1 1 1 0]\n",
            "Accuracy of KNN classifier: 0.65625\n"
          ]
        }
      ]
    }
  ]
}