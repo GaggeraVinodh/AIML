{
 "cells": [
  {
   "cell_type": "code",
   "execution_count": 1,
   "id": "8259d5e1",
   "metadata": {
    "_cell_guid": "b1076dfc-b9ad-4769-8c92-a6c4dae69d19",
    "_uuid": "8f2839f25d086af736a60e9eeb907d3b93b6e0e5",
    "execution": {
     "iopub.execute_input": "2023-10-04T04:47:09.261394Z",
     "iopub.status.busy": "2023-10-04T04:47:09.260899Z",
     "iopub.status.idle": "2023-10-04T04:47:09.592257Z",
     "shell.execute_reply": "2023-10-04T04:47:09.591340Z"
    },
    "papermill": {
     "duration": 0.340407,
     "end_time": "2023-10-04T04:47:09.595344",
     "exception": false,
     "start_time": "2023-10-04T04:47:09.254937",
     "status": "completed"
    },
    "tags": []
   },
   "outputs": [],
   "source": [
    "import numpy as np # linear algebra\n",
    "import pandas as pd # data processing, CSV file I/O (e.g. pd.read_csv)\n",
    "import os"
   ]
  },
  {
   "cell_type": "code",
   "execution_count": 2,
   "id": "08b7b758",
   "metadata": {
    "execution": {
     "iopub.execute_input": "2023-10-04T04:47:09.605202Z",
     "iopub.status.busy": "2023-10-04T04:47:09.604032Z",
     "iopub.status.idle": "2023-10-04T04:47:09.638798Z",
     "shell.execute_reply": "2023-10-04T04:47:09.637857Z"
    },
    "papermill": {
     "duration": 0.041321,
     "end_time": "2023-10-04T04:47:09.640794",
     "exception": false,
     "start_time": "2023-10-04T04:47:09.599473",
     "status": "completed"
    },
    "tags": []
   },
   "outputs": [
    {
     "data": {
      "text/html": [
       "<div>\n",
       "<style scoped>\n",
       "    .dataframe tbody tr th:only-of-type {\n",
       "        vertical-align: middle;\n",
       "    }\n",
       "\n",
       "    .dataframe tbody tr th {\n",
       "        vertical-align: top;\n",
       "    }\n",
       "\n",
       "    .dataframe thead th {\n",
       "        text-align: right;\n",
       "    }\n",
       "</style>\n",
       "<table border=\"1\" class=\"dataframe\">\n",
       "  <thead>\n",
       "    <tr style=\"text-align: right;\">\n",
       "      <th></th>\n",
       "      <th>Age</th>\n",
       "      <th>Gender</th>\n",
       "      <th>Education Level</th>\n",
       "      <th>Job Title</th>\n",
       "      <th>Years of Experience</th>\n",
       "      <th>Salary</th>\n",
       "    </tr>\n",
       "  </thead>\n",
       "  <tbody>\n",
       "    <tr>\n",
       "      <th>0</th>\n",
       "      <td>32.0</td>\n",
       "      <td>Male</td>\n",
       "      <td>Bachelor's</td>\n",
       "      <td>Software Engineer</td>\n",
       "      <td>5.0</td>\n",
       "      <td>90000.0</td>\n",
       "    </tr>\n",
       "    <tr>\n",
       "      <th>1</th>\n",
       "      <td>28.0</td>\n",
       "      <td>Female</td>\n",
       "      <td>Master's</td>\n",
       "      <td>Data Analyst</td>\n",
       "      <td>3.0</td>\n",
       "      <td>65000.0</td>\n",
       "    </tr>\n",
       "    <tr>\n",
       "      <th>2</th>\n",
       "      <td>45.0</td>\n",
       "      <td>Male</td>\n",
       "      <td>PhD</td>\n",
       "      <td>Senior Manager</td>\n",
       "      <td>15.0</td>\n",
       "      <td>150000.0</td>\n",
       "    </tr>\n",
       "    <tr>\n",
       "      <th>3</th>\n",
       "      <td>36.0</td>\n",
       "      <td>Female</td>\n",
       "      <td>Bachelor's</td>\n",
       "      <td>Sales Associate</td>\n",
       "      <td>7.0</td>\n",
       "      <td>60000.0</td>\n",
       "    </tr>\n",
       "    <tr>\n",
       "      <th>4</th>\n",
       "      <td>52.0</td>\n",
       "      <td>Male</td>\n",
       "      <td>Master's</td>\n",
       "      <td>Director</td>\n",
       "      <td>20.0</td>\n",
       "      <td>200000.0</td>\n",
       "    </tr>\n",
       "  </tbody>\n",
       "</table>\n",
       "</div>"
      ],
      "text/plain": [
       "    Age  Gender Education Level          Job Title  Years of Experience  \\\n",
       "0  32.0    Male      Bachelor's  Software Engineer                  5.0   \n",
       "1  28.0  Female        Master's       Data Analyst                  3.0   \n",
       "2  45.0    Male             PhD     Senior Manager                 15.0   \n",
       "3  36.0  Female      Bachelor's    Sales Associate                  7.0   \n",
       "4  52.0    Male        Master's           Director                 20.0   \n",
       "\n",
       "     Salary  \n",
       "0   90000.0  \n",
       "1   65000.0  \n",
       "2  150000.0  \n",
       "3   60000.0  \n",
       "4  200000.0  "
      ]
     },
     "execution_count": 2,
     "metadata": {},
     "output_type": "execute_result"
    }
   ],
   "source": [
    "dataset=pd.read_csv(\"Salary Data.csv\")\n",
    "dataset.head()"
   ]
  },
  {
   "cell_type": "code",
   "execution_count": 3,
   "id": "96fc9191",
   "metadata": {
    "execution": {
     "iopub.execute_input": "2023-10-04T04:47:09.649672Z",
     "iopub.status.busy": "2023-10-04T04:47:09.649398Z",
     "iopub.status.idle": "2023-10-04T04:47:09.653436Z",
     "shell.execute_reply": "2023-10-04T04:47:09.652626Z"
    },
    "papermill": {
     "duration": 0.010345,
     "end_time": "2023-10-04T04:47:09.655108",
     "exception": false,
     "start_time": "2023-10-04T04:47:09.644763",
     "status": "completed"
    },
    "tags": []
   },
   "outputs": [
    {
     "name": "stdout",
     "output_type": "stream",
     "text": [
      "2250\n"
     ]
    }
   ],
   "source": [
    "print(dataset.size)\n"
   ]
  },
  {
   "cell_type": "code",
   "execution_count": 4,
   "id": "8fc7df77",
   "metadata": {
    "execution": {
     "iopub.execute_input": "2023-10-04T04:47:09.663539Z",
     "iopub.status.busy": "2023-10-04T04:47:09.663320Z",
     "iopub.status.idle": "2023-10-04T04:47:09.671260Z",
     "shell.execute_reply": "2023-10-04T04:47:09.670410Z"
    },
    "papermill": {
     "duration": 0.014149,
     "end_time": "2023-10-04T04:47:09.672835",
     "exception": false,
     "start_time": "2023-10-04T04:47:09.658686",
     "status": "completed"
    },
    "tags": []
   },
   "outputs": [
    {
     "data": {
      "text/plain": [
       "array(['Software Engineer', 'Data Analyst', 'Senior Manager',\n",
       "       'Sales Associate', 'Director', 'Marketing Analyst',\n",
       "       'Product Manager', 'Sales Manager', 'Marketing Coordinator',\n",
       "       'Senior Scientist', 'Software Developer', 'HR Manager',\n",
       "       'Financial Analyst', 'Project Manager', 'Customer Service Rep',\n",
       "       'Operations Manager', 'Marketing Manager', 'Senior Engineer',\n",
       "       'Data Entry Clerk', 'Sales Director', 'Business Analyst',\n",
       "       'VP of Operations', 'IT Support', 'Recruiter', 'Financial Manager',\n",
       "       'Social Media Specialist', 'Software Manager', 'Junior Developer',\n",
       "       'Senior Consultant', 'Product Designer', 'CEO', 'Accountant',\n",
       "       'Data Scientist', 'Marketing Specialist', 'Technical Writer',\n",
       "       'HR Generalist', 'Project Engineer', 'Customer Success Rep',\n",
       "       'Sales Executive', 'UX Designer', 'Operations Director',\n",
       "       'Network Engineer', 'Administrative Assistant',\n",
       "       'Strategy Consultant', 'Copywriter', 'Account Manager',\n",
       "       'Director of Marketing', 'Help Desk Analyst',\n",
       "       'Customer Service Manager', 'Business Intelligence Analyst',\n",
       "       'Event Coordinator', 'VP of Finance', 'Graphic Designer',\n",
       "       'UX Researcher', 'Social Media Manager', 'Director of Operations',\n",
       "       'Senior Data Scientist', 'Junior Accountant',\n",
       "       'Digital Marketing Manager', 'IT Manager',\n",
       "       'Customer Service Representative', 'Business Development Manager',\n",
       "       'Senior Financial Analyst', 'Web Developer', 'Research Director',\n",
       "       'Technical Support Specialist', 'Creative Director',\n",
       "       'Senior Software Engineer', 'Human Resources Director',\n",
       "       'Content Marketing Manager', 'Technical Recruiter',\n",
       "       'Sales Representative', 'Chief Technology Officer',\n",
       "       'Junior Designer', 'Financial Advisor', 'Junior Account Manager',\n",
       "       'Senior Project Manager', 'Principal Scientist',\n",
       "       'Supply Chain Manager', 'Senior Marketing Manager',\n",
       "       'Training Specialist', 'Research Scientist',\n",
       "       'Junior Software Developer', 'Public Relations Manager',\n",
       "       'Operations Analyst', 'Product Marketing Manager',\n",
       "       'Senior HR Manager', 'Junior Web Developer',\n",
       "       'Senior Project Coordinator', 'Chief Data Officer',\n",
       "       'Digital Content Producer', 'IT Support Specialist',\n",
       "       'Senior Marketing Analyst', 'Customer Success Manager',\n",
       "       'Senior Graphic Designer', 'Software Project Manager',\n",
       "       'Supply Chain Analyst', 'Senior Business Analyst',\n",
       "       'Junior Marketing Analyst', 'Office Manager', 'Principal Engineer',\n",
       "       'Junior HR Generalist', 'Senior Product Manager',\n",
       "       'Junior Operations Analyst', 'Senior HR Generalist',\n",
       "       'Sales Operations Manager', 'Senior Software Developer',\n",
       "       'Junior Web Designer', 'Senior Training Specialist',\n",
       "       'Senior Research Scientist', 'Junior Sales Representative',\n",
       "       'Junior Marketing Manager', 'Junior Data Analyst',\n",
       "       'Senior Product Marketing Manager', 'Junior Business Analyst',\n",
       "       'Senior Sales Manager', 'Junior Marketing Specialist',\n",
       "       'Junior Project Manager', 'Senior Accountant', 'Director of Sales',\n",
       "       'Junior Recruiter', 'Senior Business Development Manager',\n",
       "       'Senior Product Designer', 'Junior Customer Support Specialist',\n",
       "       'Senior IT Support Specialist', 'Junior Financial Analyst',\n",
       "       'Senior Operations Manager', 'Director of Human Resources',\n",
       "       'Junior Software Engineer', 'Senior Sales Representative',\n",
       "       'Director of Product Management', 'Junior Copywriter',\n",
       "       'Senior Marketing Coordinator', 'Senior Human Resources Manager',\n",
       "       'Junior Business Development Associate', 'Senior Account Manager',\n",
       "       'Senior Researcher', 'Junior HR Coordinator',\n",
       "       'Director of Finance', 'Junior Marketing Coordinator', nan,\n",
       "       'Junior Data Scientist', 'Senior Operations Analyst',\n",
       "       'Senior Human Resources Coordinator', 'Senior UX Designer',\n",
       "       'Junior Product Manager', 'Senior Marketing Specialist',\n",
       "       'Senior IT Project Manager', 'Senior Quality Assurance Analyst',\n",
       "       'Director of Sales and Marketing', 'Senior Account Executive',\n",
       "       'Director of Business Development', 'Junior Social Media Manager',\n",
       "       'Senior Human Resources Specialist', 'Senior Data Analyst',\n",
       "       'Director of Human Capital', 'Junior Advertising Coordinator',\n",
       "       'Junior UX Designer', 'Senior Marketing Director',\n",
       "       'Senior IT Consultant', 'Senior Financial Advisor',\n",
       "       'Junior Business Operations Analyst',\n",
       "       'Junior Social Media Specialist',\n",
       "       'Senior Product Development Manager', 'Junior Operations Manager',\n",
       "       'Senior Software Architect', 'Junior Research Scientist',\n",
       "       'Senior Financial Manager', 'Senior HR Specialist',\n",
       "       'Senior Data Engineer', 'Junior Operations Coordinator',\n",
       "       'Director of HR', 'Senior Operations Coordinator',\n",
       "       'Junior Financial Advisor', 'Director of Engineering'],\n",
       "      dtype=object)"
      ]
     },
     "execution_count": 4,
     "metadata": {},
     "output_type": "execute_result"
    }
   ],
   "source": [
    "pd.unique(dataset[\"Job Title\"])"
   ]
  },
  {
   "cell_type": "code",
   "execution_count": 5,
   "id": "132a339d",
   "metadata": {
    "execution": {
     "iopub.execute_input": "2023-10-04T04:47:09.681985Z",
     "iopub.status.busy": "2023-10-04T04:47:09.681771Z",
     "iopub.status.idle": "2023-10-04T04:47:09.690079Z",
     "shell.execute_reply": "2023-10-04T04:47:09.689424Z"
    },
    "papermill": {
     "duration": 0.014829,
     "end_time": "2023-10-04T04:47:09.691628",
     "exception": false,
     "start_time": "2023-10-04T04:47:09.676799",
     "status": "completed"
    },
    "tags": []
   },
   "outputs": [],
   "source": [
    "dataset=dataset.drop(\"Job Title\",axis=1)  "
   ]
  },
  {
   "cell_type": "code",
   "execution_count": 6,
   "id": "2d42d8ac",
   "metadata": {
    "execution": {
     "iopub.execute_input": "2023-10-04T04:47:09.700704Z",
     "iopub.status.busy": "2023-10-04T04:47:09.700444Z",
     "iopub.status.idle": "2023-10-04T04:47:09.705730Z",
     "shell.execute_reply": "2023-10-04T04:47:09.705121Z"
    },
    "papermill": {
     "duration": 0.011474,
     "end_time": "2023-10-04T04:47:09.707102",
     "exception": false,
     "start_time": "2023-10-04T04:47:09.695628",
     "status": "completed"
    },
    "tags": []
   },
   "outputs": [
    {
     "data": {
      "text/plain": [
       "array([\"Bachelor's\", \"Master's\", 'PhD', nan], dtype=object)"
      ]
     },
     "execution_count": 6,
     "metadata": {},
     "output_type": "execute_result"
    }
   ],
   "source": [
    "pd.unique(dataset[\"Education Level\"])"
   ]
  },
  {
   "cell_type": "code",
   "execution_count": 7,
   "id": "0ae3b7cf",
   "metadata": {
    "execution": {
     "iopub.execute_input": "2023-10-04T04:47:09.716083Z",
     "iopub.status.busy": "2023-10-04T04:47:09.715867Z",
     "iopub.status.idle": "2023-10-04T04:47:09.730821Z",
     "shell.execute_reply": "2023-10-04T04:47:09.729871Z"
    },
    "papermill": {
     "duration": 0.021213,
     "end_time": "2023-10-04T04:47:09.732491",
     "exception": false,
     "start_time": "2023-10-04T04:47:09.711278",
     "status": "completed"
    },
    "tags": []
   },
   "outputs": [
    {
     "data": {
      "text/html": [
       "<div>\n",
       "<style scoped>\n",
       "    .dataframe tbody tr th:only-of-type {\n",
       "        vertical-align: middle;\n",
       "    }\n",
       "\n",
       "    .dataframe tbody tr th {\n",
       "        vertical-align: top;\n",
       "    }\n",
       "\n",
       "    .dataframe thead th {\n",
       "        text-align: right;\n",
       "    }\n",
       "</style>\n",
       "<table border=\"1\" class=\"dataframe\">\n",
       "  <thead>\n",
       "    <tr style=\"text-align: right;\">\n",
       "      <th></th>\n",
       "      <th>Age</th>\n",
       "      <th>Years of Experience</th>\n",
       "      <th>Salary</th>\n",
       "      <th>Gender_Female</th>\n",
       "      <th>Gender_Male</th>\n",
       "      <th>Education Level_Bachelor's</th>\n",
       "      <th>Education Level_Master's</th>\n",
       "      <th>Education Level_PhD</th>\n",
       "    </tr>\n",
       "  </thead>\n",
       "  <tbody>\n",
       "    <tr>\n",
       "      <th>0</th>\n",
       "      <td>32.0</td>\n",
       "      <td>5.0</td>\n",
       "      <td>90000.0</td>\n",
       "      <td>0</td>\n",
       "      <td>1</td>\n",
       "      <td>1</td>\n",
       "      <td>0</td>\n",
       "      <td>0</td>\n",
       "    </tr>\n",
       "    <tr>\n",
       "      <th>1</th>\n",
       "      <td>28.0</td>\n",
       "      <td>3.0</td>\n",
       "      <td>65000.0</td>\n",
       "      <td>1</td>\n",
       "      <td>0</td>\n",
       "      <td>0</td>\n",
       "      <td>1</td>\n",
       "      <td>0</td>\n",
       "    </tr>\n",
       "    <tr>\n",
       "      <th>2</th>\n",
       "      <td>45.0</td>\n",
       "      <td>15.0</td>\n",
       "      <td>150000.0</td>\n",
       "      <td>0</td>\n",
       "      <td>1</td>\n",
       "      <td>0</td>\n",
       "      <td>0</td>\n",
       "      <td>1</td>\n",
       "    </tr>\n",
       "    <tr>\n",
       "      <th>3</th>\n",
       "      <td>36.0</td>\n",
       "      <td>7.0</td>\n",
       "      <td>60000.0</td>\n",
       "      <td>1</td>\n",
       "      <td>0</td>\n",
       "      <td>1</td>\n",
       "      <td>0</td>\n",
       "      <td>0</td>\n",
       "    </tr>\n",
       "    <tr>\n",
       "      <th>4</th>\n",
       "      <td>52.0</td>\n",
       "      <td>20.0</td>\n",
       "      <td>200000.0</td>\n",
       "      <td>0</td>\n",
       "      <td>1</td>\n",
       "      <td>0</td>\n",
       "      <td>1</td>\n",
       "      <td>0</td>\n",
       "    </tr>\n",
       "  </tbody>\n",
       "</table>\n",
       "</div>"
      ],
      "text/plain": [
       "    Age  Years of Experience    Salary  Gender_Female  Gender_Male  \\\n",
       "0  32.0                  5.0   90000.0              0            1   \n",
       "1  28.0                  3.0   65000.0              1            0   \n",
       "2  45.0                 15.0  150000.0              0            1   \n",
       "3  36.0                  7.0   60000.0              1            0   \n",
       "4  52.0                 20.0  200000.0              0            1   \n",
       "\n",
       "   Education Level_Bachelor's  Education Level_Master's  Education Level_PhD  \n",
       "0                           1                         0                    0  \n",
       "1                           0                         1                    0  \n",
       "2                           0                         0                    1  \n",
       "3                           1                         0                    0  \n",
       "4                           0                         1                    0  "
      ]
     },
     "execution_count": 7,
     "metadata": {},
     "output_type": "execute_result"
    }
   ],
   "source": [
    "new_dataset=pd.get_dummies(dataset,columns=[\"Gender\",\"Education Level\"],dtype=int)\n",
    "new_dataset.head()"
   ]
  },
  {
   "cell_type": "code",
   "execution_count": 8,
   "id": "50930a07",
   "metadata": {
    "execution": {
     "iopub.execute_input": "2023-10-04T04:47:09.742210Z",
     "iopub.status.busy": "2023-10-04T04:47:09.741904Z",
     "iopub.status.idle": "2023-10-04T04:47:09.748750Z",
     "shell.execute_reply": "2023-10-04T04:47:09.747720Z"
    },
    "papermill": {
     "duration": 0.013886,
     "end_time": "2023-10-04T04:47:09.750679",
     "exception": false,
     "start_time": "2023-10-04T04:47:09.736793",
     "status": "completed"
    },
    "tags": []
   },
   "outputs": [
    {
     "data": {
      "text/plain": [
       "Age                           2\n",
       "Years of Experience           2\n",
       "Salary                        2\n",
       "Gender_Female                 0\n",
       "Gender_Male                   0\n",
       "Education Level_Bachelor's    0\n",
       "Education Level_Master's      0\n",
       "Education Level_PhD           0\n",
       "dtype: int64"
      ]
     },
     "execution_count": 8,
     "metadata": {},
     "output_type": "execute_result"
    }
   ],
   "source": [
    "new_dataset.isnull().sum()"
   ]
  },
  {
   "cell_type": "code",
   "execution_count": 9,
   "id": "835adcc8",
   "metadata": {
    "execution": {
     "iopub.execute_input": "2023-10-04T04:47:09.760448Z",
     "iopub.status.busy": "2023-10-04T04:47:09.760136Z",
     "iopub.status.idle": "2023-10-04T04:47:09.766147Z",
     "shell.execute_reply": "2023-10-04T04:47:09.765533Z"
    },
    "papermill": {
     "duration": 0.012911,
     "end_time": "2023-10-04T04:47:09.767866",
     "exception": false,
     "start_time": "2023-10-04T04:47:09.754955",
     "status": "completed"
    },
    "tags": []
   },
   "outputs": [],
   "source": [
    "new_dataset=new_dataset.dropna()"
   ]
  },
  {
   "cell_type": "code",
   "execution_count": 10,
   "id": "5382dd27",
   "metadata": {
    "execution": {
     "iopub.execute_input": "2023-10-04T04:47:09.777457Z",
     "iopub.status.busy": "2023-10-04T04:47:09.777247Z",
     "iopub.status.idle": "2023-10-04T04:47:09.783401Z",
     "shell.execute_reply": "2023-10-04T04:47:09.782585Z"
    },
    "papermill": {
     "duration": 0.012864,
     "end_time": "2023-10-04T04:47:09.785007",
     "exception": false,
     "start_time": "2023-10-04T04:47:09.772143",
     "status": "completed"
    },
    "tags": []
   },
   "outputs": [
    {
     "data": {
      "text/plain": [
       "Age                           0\n",
       "Years of Experience           0\n",
       "Salary                        0\n",
       "Gender_Female                 0\n",
       "Gender_Male                   0\n",
       "Education Level_Bachelor's    0\n",
       "Education Level_Master's      0\n",
       "Education Level_PhD           0\n",
       "dtype: int64"
      ]
     },
     "execution_count": 10,
     "metadata": {},
     "output_type": "execute_result"
    }
   ],
   "source": [
    "new_dataset.isnull().sum()"
   ]
  },
  {
   "cell_type": "code",
   "execution_count": 11,
   "id": "a4a00f1b",
   "metadata": {
    "execution": {
     "iopub.execute_input": "2023-10-04T04:47:09.795271Z",
     "iopub.status.busy": "2023-10-04T04:47:09.794969Z",
     "iopub.status.idle": "2023-10-04T04:47:10.898817Z",
     "shell.execute_reply": "2023-10-04T04:47:10.897480Z"
    },
    "papermill": {
     "duration": 1.111819,
     "end_time": "2023-10-04T04:47:10.901141",
     "exception": false,
     "start_time": "2023-10-04T04:47:09.789322",
     "status": "completed"
    },
    "tags": []
   },
   "outputs": [],
   "source": [
    "from sklearn.preprocessing import StandardScaler\n",
    "from sklearn.model_selection import train_test_split"
   ]
  },
  {
   "cell_type": "code",
   "execution_count": 12,
   "id": "42d522b8",
   "metadata": {
    "execution": {
     "iopub.execute_input": "2023-10-04T04:47:10.912194Z",
     "iopub.status.busy": "2023-10-04T04:47:10.911505Z",
     "iopub.status.idle": "2023-10-04T04:47:10.917059Z",
     "shell.execute_reply": "2023-10-04T04:47:10.916322Z"
    },
    "papermill": {
     "duration": 0.012984,
     "end_time": "2023-10-04T04:47:10.918852",
     "exception": false,
     "start_time": "2023-10-04T04:47:10.905868",
     "status": "completed"
    },
    "tags": []
   },
   "outputs": [],
   "source": [
    "y=new_dataset[\"Salary\"]\n",
    "X=new_dataset.drop(\"Salary\",axis=1)"
   ]
  },
  {
   "cell_type": "code",
   "execution_count": 13,
   "id": "097105e6",
   "metadata": {
    "execution": {
     "iopub.execute_input": "2023-10-04T04:47:10.929200Z",
     "iopub.status.busy": "2023-10-04T04:47:10.928930Z",
     "iopub.status.idle": "2023-10-04T04:47:10.934386Z",
     "shell.execute_reply": "2023-10-04T04:47:10.933386Z"
    },
    "papermill": {
     "duration": 0.012374,
     "end_time": "2023-10-04T04:47:10.935968",
     "exception": false,
     "start_time": "2023-10-04T04:47:10.923594",
     "status": "completed"
    },
    "tags": []
   },
   "outputs": [
    {
     "name": "stdout",
     "output_type": "stream",
     "text": [
      "      Age  Years of Experience  Gender_Female  Gender_Male  \\\n",
      "329  48.0                 21.0              0            1   \n",
      "33   39.0                 10.0              1            0   \n",
      "15   44.0                 16.0              0            1   \n",
      "316  34.0                  6.0              1            0   \n",
      "57   43.0                 17.0              0            1   \n",
      "..    ...                  ...            ...          ...   \n",
      "94   33.0                  7.0              0            1   \n",
      "196  41.0                 11.0              1            0   \n",
      "313  33.0                  4.0              0            1   \n",
      "294  45.0                 14.0              1            0   \n",
      "349  36.0                  8.0              0            1   \n",
      "\n",
      "     Education Level_Bachelor's  Education Level_Master's  Education Level_PhD  \n",
      "329                           0                         1                    0  \n",
      "33                            1                         0                    0  \n",
      "15                            1                         0                    0  \n",
      "316                           0                         1                    0  \n",
      "57                            0                         0                    1  \n",
      "..                          ...                       ...                  ...  \n",
      "94                            1                         0                    0  \n",
      "196                           1                         0                    0  \n",
      "313                           1                         0                    0  \n",
      "294                           0                         1                    0  \n",
      "349                           1                         0                    0  \n",
      "\n",
      "[75 rows x 7 columns]\n"
     ]
    }
   ],
   "source": [
    "X_train,X_test,y_train,y_test=train_test_split(X,y,random_state=42,test_size=0.2)\n",
    "print(X_test)"
   ]
  },
  {
   "cell_type": "code",
   "execution_count": 14,
   "id": "6cb41e20",
   "metadata": {
    "execution": {
     "iopub.execute_input": "2023-10-04T04:47:10.946270Z",
     "iopub.status.busy": "2023-10-04T04:47:10.945825Z",
     "iopub.status.idle": "2023-10-04T04:47:10.954774Z",
     "shell.execute_reply": "2023-10-04T04:47:10.954010Z"
    },
    "papermill": {
     "duration": 0.015873,
     "end_time": "2023-10-04T04:47:10.956407",
     "exception": false,
     "start_time": "2023-10-04T04:47:10.940534",
     "status": "completed"
    },
    "tags": []
   },
   "outputs": [],
   "source": [
    "scaler = StandardScaler()\n",
    "X_train = scaler.fit_transform(X_train)\n",
    "X_test = scaler.transform(X_test)"
   ]
  },
  {
   "cell_type": "code",
   "execution_count": 15,
   "id": "4e6b74fc",
   "metadata": {
    "execution": {
     "iopub.execute_input": "2023-10-04T04:47:10.966556Z",
     "iopub.status.busy": "2023-10-04T04:47:10.966064Z",
     "iopub.status.idle": "2023-10-04T04:47:11.143402Z",
     "shell.execute_reply": "2023-10-04T04:47:11.142383Z"
    },
    "papermill": {
     "duration": 0.1842,
     "end_time": "2023-10-04T04:47:11.145208",
     "exception": false,
     "start_time": "2023-10-04T04:47:10.961008",
     "status": "completed"
    },
    "tags": []
   },
   "outputs": [
    {
     "data": {
      "text/html": [
       "<style>#sk-container-id-1 {color: black;background-color: white;}#sk-container-id-1 pre{padding: 0;}#sk-container-id-1 div.sk-toggleable {background-color: white;}#sk-container-id-1 label.sk-toggleable__label {cursor: pointer;display: block;width: 100%;margin-bottom: 0;padding: 0.3em;box-sizing: border-box;text-align: center;}#sk-container-id-1 label.sk-toggleable__label-arrow:before {content: \"▸\";float: left;margin-right: 0.25em;color: #696969;}#sk-container-id-1 label.sk-toggleable__label-arrow:hover:before {color: black;}#sk-container-id-1 div.sk-estimator:hover label.sk-toggleable__label-arrow:before {color: black;}#sk-container-id-1 div.sk-toggleable__content {max-height: 0;max-width: 0;overflow: hidden;text-align: left;background-color: #f0f8ff;}#sk-container-id-1 div.sk-toggleable__content pre {margin: 0.2em;color: black;border-radius: 0.25em;background-color: #f0f8ff;}#sk-container-id-1 input.sk-toggleable__control:checked~div.sk-toggleable__content {max-height: 200px;max-width: 100%;overflow: auto;}#sk-container-id-1 input.sk-toggleable__control:checked~label.sk-toggleable__label-arrow:before {content: \"▾\";}#sk-container-id-1 div.sk-estimator input.sk-toggleable__control:checked~label.sk-toggleable__label {background-color: #d4ebff;}#sk-container-id-1 div.sk-label input.sk-toggleable__control:checked~label.sk-toggleable__label {background-color: #d4ebff;}#sk-container-id-1 input.sk-hidden--visually {border: 0;clip: rect(1px 1px 1px 1px);clip: rect(1px, 1px, 1px, 1px);height: 1px;margin: -1px;overflow: hidden;padding: 0;position: absolute;width: 1px;}#sk-container-id-1 div.sk-estimator {font-family: monospace;background-color: #f0f8ff;border: 1px dotted black;border-radius: 0.25em;box-sizing: border-box;margin-bottom: 0.5em;}#sk-container-id-1 div.sk-estimator:hover {background-color: #d4ebff;}#sk-container-id-1 div.sk-parallel-item::after {content: \"\";width: 100%;border-bottom: 1px solid gray;flex-grow: 1;}#sk-container-id-1 div.sk-label:hover label.sk-toggleable__label {background-color: #d4ebff;}#sk-container-id-1 div.sk-serial::before {content: \"\";position: absolute;border-left: 1px solid gray;box-sizing: border-box;top: 0;bottom: 0;left: 50%;z-index: 0;}#sk-container-id-1 div.sk-serial {display: flex;flex-direction: column;align-items: center;background-color: white;padding-right: 0.2em;padding-left: 0.2em;position: relative;}#sk-container-id-1 div.sk-item {position: relative;z-index: 1;}#sk-container-id-1 div.sk-parallel {display: flex;align-items: stretch;justify-content: center;background-color: white;position: relative;}#sk-container-id-1 div.sk-item::before, #sk-container-id-1 div.sk-parallel-item::before {content: \"\";position: absolute;border-left: 1px solid gray;box-sizing: border-box;top: 0;bottom: 0;left: 50%;z-index: -1;}#sk-container-id-1 div.sk-parallel-item {display: flex;flex-direction: column;z-index: 1;position: relative;background-color: white;}#sk-container-id-1 div.sk-parallel-item:first-child::after {align-self: flex-end;width: 50%;}#sk-container-id-1 div.sk-parallel-item:last-child::after {align-self: flex-start;width: 50%;}#sk-container-id-1 div.sk-parallel-item:only-child::after {width: 0;}#sk-container-id-1 div.sk-dashed-wrapped {border: 1px dashed gray;margin: 0 0.4em 0.5em 0.4em;box-sizing: border-box;padding-bottom: 0.4em;background-color: white;}#sk-container-id-1 div.sk-label label {font-family: monospace;font-weight: bold;display: inline-block;line-height: 1.2em;}#sk-container-id-1 div.sk-label-container {text-align: center;}#sk-container-id-1 div.sk-container {/* jupyter's `normalize.less` sets `[hidden] { display: none; }` but bootstrap.min.css set `[hidden] { display: none !important; }` so we also need the `!important` here to be able to override the default hidden behavior on the sphinx rendered scikit-learn.org. See: https://github.com/scikit-learn/scikit-learn/issues/21755 */display: inline-block !important;position: relative;}#sk-container-id-1 div.sk-text-repr-fallback {display: none;}</style><div id=\"sk-container-id-1\" class=\"sk-top-container\"><div class=\"sk-text-repr-fallback\"><pre>LinearRegression()</pre><b>In a Jupyter environment, please rerun this cell to show the HTML representation or trust the notebook. <br />On GitHub, the HTML representation is unable to render, please try loading this page with nbviewer.org.</b></div><div class=\"sk-container\" hidden><div class=\"sk-item\"><div class=\"sk-estimator sk-toggleable\"><input class=\"sk-toggleable__control sk-hidden--visually\" id=\"sk-estimator-id-1\" type=\"checkbox\" checked><label for=\"sk-estimator-id-1\" class=\"sk-toggleable__label sk-toggleable__label-arrow\">LinearRegression</label><div class=\"sk-toggleable__content\"><pre>LinearRegression()</pre></div></div></div></div></div>"
      ],
      "text/plain": [
       "LinearRegression()"
      ]
     },
     "execution_count": 15,
     "metadata": {},
     "output_type": "execute_result"
    }
   ],
   "source": [
    "from sklearn.linear_model import LinearRegression\n",
    "regressor=LinearRegression()\n",
    "regressor.fit(X_train,y_train)"
   ]
  },
  {
   "cell_type": "code",
   "execution_count": 16,
   "id": "b48db07b",
   "metadata": {
    "execution": {
     "iopub.execute_input": "2023-10-04T04:47:11.156243Z",
     "iopub.status.busy": "2023-10-04T04:47:11.155551Z",
     "iopub.status.idle": "2023-10-04T04:47:11.160301Z",
     "shell.execute_reply": "2023-10-04T04:47:11.159332Z"
    },
    "papermill": {
     "duration": 0.011893,
     "end_time": "2023-10-04T04:47:11.161882",
     "exception": false,
     "start_time": "2023-10-04T04:47:11.149989",
     "status": "completed"
    },
    "tags": []
   },
   "outputs": [
    {
     "name": "stdout",
     "output_type": "stream",
     "text": [
      "[174397.94485083  92739.7304696  129954.3162758   87434.0606635\n",
      " 155650.66506871 153470.74460953 155412.89491725 106274.78004172\n",
      "  58094.21861415 104017.16012387 136809.94569049 157592.81537643\n",
      "  37929.58521857  87601.18414105 126217.38342327  58094.21861415\n",
      "  65490.38486054  53411.32798827  76545.7845008  102537.84718919\n",
      " 124275.23311555 111724.78040318 161100.66543017  61441.9979751\n",
      "  87434.0606635   48595.83136725 168496.83167656  45248.0520063\n",
      " 122468.72601052 152364.84502899  39408.89815326 127996.42583064\n",
      "  54434.98522029 147865.34533074  89080.49707573  16441.56511829\n",
      " 177761.46434921  52566.51879403 149811.51121567  59962.68504042\n",
      "  44858.89851472  91260.41753491 168725.91447534 170661.0119983\n",
      "  45248.0520063  149733.811757   118825.23275409  54345.5612014\n",
      "  48907.28540016  37540.431727   159683.31181671  78414.25092706\n",
      " 124348.91699701 100135.89671599 115384.01379704 107843.51699529\n",
      " 188801.12385203  76156.63100922 174397.94485083  87823.21415507\n",
      " 120600.25958425 147865.34533074 164821.85814526  65490.38486054\n",
      "  50386.59833485  45248.0520063   54434.98522029  89080.49707573\n",
      "  44858.89851472  30533.41897219  72886.55110693 101926.66368359\n",
      "  67281.15182814 142633.3594061   85732.71771479]\n"
     ]
    }
   ],
   "source": [
    "y_pred=regressor.predict(X_test)\n",
    "print(y_pred)"
   ]
  },
  {
   "cell_type": "code",
   "execution_count": null,
   "id": "b935ff94",
   "metadata": {
    "execution": {
     "iopub.execute_input": "2023-10-04T04:47:11.171898Z",
     "iopub.status.busy": "2023-10-04T04:47:11.171634Z",
     "iopub.status.idle": "2023-10-04T04:47:11.176072Z",
     "shell.execute_reply": "2023-10-04T04:47:11.175061Z"
    },
    "papermill": {
     "duration": 0.011361,
     "end_time": "2023-10-04T04:47:11.177807",
     "exception": false,
     "start_time": "2023-10-04T04:47:11.166446",
     "status": "completed"
    },
    "tags": []
   },
   "outputs": [],
   "source": [
    "print(y_pred.size)\n",
    "print(y_test.size)"
   ]
  },
  {
   "cell_type": "code",
   "execution_count": null,
   "id": "6947fb9c",
   "metadata": {
    "execution": {
     "iopub.execute_input": "2023-10-04T04:47:11.187990Z",
     "iopub.status.busy": "2023-10-04T04:47:11.187732Z",
     "iopub.status.idle": "2023-10-04T04:47:11.192598Z",
     "shell.execute_reply": "2023-10-04T04:47:11.191849Z"
    },
    "papermill": {
     "duration": 0.012192,
     "end_time": "2023-10-04T04:47:11.194528",
     "exception": false,
     "start_time": "2023-10-04T04:47:11.182336",
     "status": "completed"
    },
    "tags": []
   },
   "outputs": [],
   "source": [
    "from sklearn.metrics import r2_score\n",
    "print(r2_score(y_test, y_pred))"
   ]
  },
  {
   "cell_type": "code",
   "execution_count": null,
   "id": "e44c693c",
   "metadata": {
    "papermill": {
     "duration": 0.004392,
     "end_time": "2023-10-04T04:47:11.203987",
     "exception": false,
     "start_time": "2023-10-04T04:47:11.199595",
     "status": "completed"
    },
    "tags": []
   },
   "outputs": [],
   "source": []
  }
 ],
 "metadata": {
  "kernelspec": {
   "display_name": "Python 3 (ipykernel)",
   "language": "python",
   "name": "python3"
  },
  "language_info": {
   "codemirror_mode": {
    "name": "ipython",
    "version": 3
   },
   "file_extension": ".py",
   "mimetype": "text/x-python",
   "name": "python",
   "nbconvert_exporter": "python",
   "pygments_lexer": "ipython3",
   "version": "3.10.9"
  },
  "papermill": {
   "default_parameters": {},
   "duration": 5.142199,
   "end_time": "2023-10-04T04:47:11.626471",
   "environment_variables": {},
   "exception": null,
   "input_path": "__notebook__.ipynb",
   "output_path": "__notebook__.ipynb",
   "parameters": {},
   "start_time": "2023-10-04T04:47:06.484272",
   "version": "2.4.0"
  }
 },
 "nbformat": 4,
 "nbformat_minor": 5
}
