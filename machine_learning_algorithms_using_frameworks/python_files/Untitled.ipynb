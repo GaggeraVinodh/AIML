{
 "cells": [
  {
   "cell_type": "code",
   "execution_count": 2,
   "id": "46fc4fe1",
   "metadata": {},
   "outputs": [
    {
     "name": "stdout",
     "output_type": "stream",
     "text": [
      "Accuracy: 0.400 (0.490)\n"
     ]
    }
   ],
   "source": [
    "\n",
    "# Cross Validation Classification Accuracy\n",
    "\n",
    "# step 1: import the required modules\n",
    "import pandas as pd\n",
    "from pandas import read_csv\n",
    "from sklearn.neighbors import KNeighborsClassifier\n",
    "from sklearn.model_selection import KFold\n",
    "from sklearn.model_selection import cross_val_score\n",
    "\n",
    "# step 2: acquire the data from the csv file\n",
    "filename = '../../datasets/bankloan_classification_train.csv'\n",
    "names = ['age', 'loanamount', 'status']\n",
    "dataframe = read_csv(filename, names=names)\n",
    "\n",
    "# step 3: split into input and output\n",
    "array = dataframe.values\n",
    "X = array[:,0:2]\n",
    "Y = array[:,2]\n",
    "\n",
    "# step 4: split in to 10 folds\n",
    "kfold = KFold(n_splits=10, random_state=None,shuffle=False)\n",
    "\n",
    "# step 5: select the KNN model\n",
    "model = KNeighborsClassifier()\n",
    "\n",
    "# step 6: select accuracy and performance metric and perform cross validation\n",
    "scoring = 'accuracy'\n",
    "results = cross_val_score(model, X, Y, cv=kfold, scoring=scoring)\n",
    "print(\"Accuracy: %.3f (%.3f)\" % (results.mean(), results.std()))\n"
   ]
  },
  {
   "cell_type": "code",
   "execution_count": null,
   "id": "43d6607b",
   "metadata": {},
   "outputs": [],
   "source": []
  }
 ],
 "metadata": {
  "kernelspec": {
   "display_name": "Python 3 (ipykernel)",
   "language": "python",
   "name": "python3"
  },
  "language_info": {
   "codemirror_mode": {
    "name": "ipython",
    "version": 3
   },
   "file_extension": ".py",
   "mimetype": "text/x-python",
   "name": "python",
   "nbconvert_exporter": "python",
   "pygments_lexer": "ipython3",
   "version": "3.9.7"
  }
 },
 "nbformat": 4,
 "nbformat_minor": 5
}
