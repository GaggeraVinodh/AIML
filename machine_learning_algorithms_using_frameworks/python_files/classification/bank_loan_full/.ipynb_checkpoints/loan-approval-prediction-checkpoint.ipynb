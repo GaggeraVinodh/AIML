{
 "cells": [
  {
   "cell_type": "markdown",
   "metadata": {
    "_uuid": "7ff9524d8c5decf2c16f53ec2c41eafbc80b885e"
   },
   "source": [
    "> # Loan Approval Prediction"
   ]
  },
  {
   "cell_type": "markdown",
   "metadata": {
    "_uuid": "82593f0501988e6a0324c7cdc5ffa4c4f6b0ca24"
   },
   "source": [
    "## 1. Import Packages & Data"
   ]
  },
  {
   "cell_type": "code",
   "execution_count": 1,
   "metadata": {
    "_uuid": "1a6c4447bbb7dd6260860486ce03b5386e3203a8"
   },
   "outputs": [],
   "source": [
    "#Import packages\n",
    "import pandas as pd\n",
    "import numpy as np\n",
    "import matplotlib.pyplot as plt\n",
    "import seaborn as sns\n",
    "from sklearn.ensemble import GradientBoostingClassifier\n",
    "from sklearn.ensemble import RandomForestClassifier\n",
    "from sklearn.model_selection import cross_val_score\n",
    "from sklearn.tree import DecisionTreeClassifier\n",
    "from sklearn.neighbors import KNeighborsClassifier\n",
    "from  sklearn import svm\n",
    "\n",
    "#Read CSV data\n",
    "data = pd.read_csv(\"LoanApprovalPrediction_two.csv\")"
   ]
  },
  {
   "cell_type": "code",
   "execution_count": 2,
   "metadata": {
    "_uuid": "6f5a84c0286f4e9eb596a6e4671a4c423e307791"
   },
   "outputs": [
    {
     "data": {
      "text/html": [
       "<div>\n",
       "<style scoped>\n",
       "    .dataframe tbody tr th:only-of-type {\n",
       "        vertical-align: middle;\n",
       "    }\n",
       "\n",
       "    .dataframe tbody tr th {\n",
       "        vertical-align: top;\n",
       "    }\n",
       "\n",
       "    .dataframe thead th {\n",
       "        text-align: right;\n",
       "    }\n",
       "</style>\n",
       "<table border=\"1\" class=\"dataframe\">\n",
       "  <thead>\n",
       "    <tr style=\"text-align: right;\">\n",
       "      <th></th>\n",
       "      <th>Loan_ID</th>\n",
       "      <th>Gender</th>\n",
       "      <th>Married</th>\n",
       "      <th>Dependents</th>\n",
       "      <th>Education</th>\n",
       "      <th>Self_Employed</th>\n",
       "      <th>ApplicantIncome</th>\n",
       "      <th>CoapplicantIncome</th>\n",
       "      <th>LoanAmount</th>\n",
       "      <th>Loan_Amount_Term</th>\n",
       "      <th>Credit_History</th>\n",
       "      <th>Property_Area</th>\n",
       "      <th>Loan_Status</th>\n",
       "    </tr>\n",
       "  </thead>\n",
       "  <tbody>\n",
       "    <tr>\n",
       "      <th>0</th>\n",
       "      <td>LP001002</td>\n",
       "      <td>Male</td>\n",
       "      <td>No</td>\n",
       "      <td>0</td>\n",
       "      <td>Graduate</td>\n",
       "      <td>No</td>\n",
       "      <td>5849</td>\n",
       "      <td>0.0</td>\n",
       "      <td>NaN</td>\n",
       "      <td>360.0</td>\n",
       "      <td>1.0</td>\n",
       "      <td>Urban</td>\n",
       "      <td>Y</td>\n",
       "    </tr>\n",
       "    <tr>\n",
       "      <th>1</th>\n",
       "      <td>LP001003</td>\n",
       "      <td>Male</td>\n",
       "      <td>Yes</td>\n",
       "      <td>1</td>\n",
       "      <td>Graduate</td>\n",
       "      <td>No</td>\n",
       "      <td>4583</td>\n",
       "      <td>1508.0</td>\n",
       "      <td>128.0</td>\n",
       "      <td>360.0</td>\n",
       "      <td>1.0</td>\n",
       "      <td>Rural</td>\n",
       "      <td>N</td>\n",
       "    </tr>\n",
       "    <tr>\n",
       "      <th>2</th>\n",
       "      <td>LP001005</td>\n",
       "      <td>Male</td>\n",
       "      <td>Yes</td>\n",
       "      <td>0</td>\n",
       "      <td>Graduate</td>\n",
       "      <td>Yes</td>\n",
       "      <td>3000</td>\n",
       "      <td>0.0</td>\n",
       "      <td>66.0</td>\n",
       "      <td>360.0</td>\n",
       "      <td>1.0</td>\n",
       "      <td>Urban</td>\n",
       "      <td>Y</td>\n",
       "    </tr>\n",
       "    <tr>\n",
       "      <th>3</th>\n",
       "      <td>LP001006</td>\n",
       "      <td>Male</td>\n",
       "      <td>Yes</td>\n",
       "      <td>0</td>\n",
       "      <td>Not Graduate</td>\n",
       "      <td>No</td>\n",
       "      <td>2583</td>\n",
       "      <td>2358.0</td>\n",
       "      <td>120.0</td>\n",
       "      <td>360.0</td>\n",
       "      <td>1.0</td>\n",
       "      <td>Urban</td>\n",
       "      <td>Y</td>\n",
       "    </tr>\n",
       "    <tr>\n",
       "      <th>4</th>\n",
       "      <td>LP001008</td>\n",
       "      <td>Male</td>\n",
       "      <td>No</td>\n",
       "      <td>0</td>\n",
       "      <td>Graduate</td>\n",
       "      <td>No</td>\n",
       "      <td>6000</td>\n",
       "      <td>0.0</td>\n",
       "      <td>141.0</td>\n",
       "      <td>360.0</td>\n",
       "      <td>1.0</td>\n",
       "      <td>Urban</td>\n",
       "      <td>Y</td>\n",
       "    </tr>\n",
       "  </tbody>\n",
       "</table>\n",
       "</div>"
      ],
      "text/plain": [
       "    Loan_ID Gender Married Dependents     Education Self_Employed  \\\n",
       "0  LP001002   Male      No          0      Graduate            No   \n",
       "1  LP001003   Male     Yes          1      Graduate            No   \n",
       "2  LP001005   Male     Yes          0      Graduate           Yes   \n",
       "3  LP001006   Male     Yes          0  Not Graduate            No   \n",
       "4  LP001008   Male      No          0      Graduate            No   \n",
       "\n",
       "   ApplicantIncome  CoapplicantIncome  LoanAmount  Loan_Amount_Term  \\\n",
       "0             5849                0.0         NaN             360.0   \n",
       "1             4583             1508.0       128.0             360.0   \n",
       "2             3000                0.0        66.0             360.0   \n",
       "3             2583             2358.0       120.0             360.0   \n",
       "4             6000                0.0       141.0             360.0   \n",
       "\n",
       "   Credit_History Property_Area Loan_Status  \n",
       "0             1.0         Urban           Y  \n",
       "1             1.0         Rural           N  \n",
       "2             1.0         Urban           Y  \n",
       "3             1.0         Urban           Y  \n",
       "4             1.0         Urban           Y  "
      ]
     },
     "execution_count": 2,
     "metadata": {},
     "output_type": "execute_result"
    }
   ],
   "source": [
    "#preview data\n",
    "data.head()"
   ]
  },
  {
   "cell_type": "markdown",
   "metadata": {
    "_uuid": "eaf3017bbbff5270e32ebeb20945d9fed2fa6ab9"
   },
   "source": [
    "## 2. Data Quality & Missing Value Assesment"
   ]
  },
  {
   "cell_type": "code",
   "execution_count": null,
   "metadata": {
    "_uuid": "a54a8f7d42ef4c7b45837ff88218b78716946548"
   },
   "outputs": [],
   "source": [
    "#Preview data information\n",
    "data.info()"
   ]
  },
  {
   "cell_type": "code",
   "execution_count": null,
   "metadata": {
    "_uuid": "74afda87fb45ebe6082cd912f5f41084adfc6bbe"
   },
   "outputs": [],
   "source": [
    "#Check missing values\n",
    "data.isnull().sum()"
   ]
  },
  {
   "cell_type": "markdown",
   "metadata": {
    "_uuid": "626cce7160673e4074be5dfae62311ffb438d2bf"
   },
   "source": [
    "### Gender - Missing Values"
   ]
  },
  {
   "cell_type": "code",
   "execution_count": null,
   "metadata": {
    "_uuid": "bc052537cffdd72596b5824036577e10a3bcf34f"
   },
   "outputs": [],
   "source": [
    "# percent of missing \"Gender\" \n",
    "print('Percent of missing \"Gender\" records is %.2f%%' %((data['Gender'].isnull().sum()/data.shape[0])*100))"
   ]
  },
  {
   "cell_type": "code",
   "execution_count": null,
   "metadata": {
    "_uuid": "eef00dc845d23c02fb756a2237d3dbfd7daa8a5d"
   },
   "outputs": [],
   "source": [
    "print(\"Number of people who take a loan group by gender :\")\n",
    "print(data['Gender'].value_counts())\n",
    "sns.countplot(x='Gender', data=data, palette = 'Set2')"
   ]
  },
  {
   "cell_type": "markdown",
   "metadata": {
    "_uuid": "142ae1d6e70785e68dfbb751fb4195128788c808"
   },
   "source": [
    "### Married - Missing Values"
   ]
  },
  {
   "cell_type": "code",
   "execution_count": null,
   "metadata": {
    "_uuid": "9260ac341c4cfc5944f69c16f79c1ac2ad421ddb"
   },
   "outputs": [],
   "source": [
    "# percent of missing \"Married\" \n",
    "print('Percent of missing \"Married\" records is %.2f%%' %((data['Married'].isnull().sum()/data.shape[0])*100))"
   ]
  },
  {
   "cell_type": "code",
   "execution_count": null,
   "metadata": {
    "_uuid": "05e301f6bf9d4a75f74eb4fdec0d730d70a0d02d"
   },
   "outputs": [],
   "source": [
    "print(\"Number of people who take a loan group by marital status :\")\n",
    "print(data['Married'].value_counts())\n",
    "sns.countplot(x='Married', data=data, palette = 'Set2')"
   ]
  },
  {
   "cell_type": "markdown",
   "metadata": {
    "_uuid": "6aee40b28eab23c1fd05c85f7aeb5f2900880760"
   },
   "source": [
    "### Dependents- Missing Values"
   ]
  },
  {
   "cell_type": "code",
   "execution_count": null,
   "metadata": {
    "_uuid": "e5ef179e92efaedff77b45005a1ce194dfbe28d1"
   },
   "outputs": [],
   "source": [
    "# percent of missing \"Dependents\" \n",
    "print('Percent of missing \"Dependents\" records is %.2f%%' %((data['Dependents'].isnull().sum()/data.shape[0])*100))"
   ]
  },
  {
   "cell_type": "code",
   "execution_count": null,
   "metadata": {
    "_uuid": "c5d6eb88ec6a6e2f7150e81eae740eb1b507e4bf"
   },
   "outputs": [],
   "source": [
    "print(\"Number of people who take a loan group by dependents :\")\n",
    "print(data['Dependents'].value_counts())\n",
    "sns.countplot(x='Dependents', data=data, palette = 'Set2')"
   ]
  },
  {
   "cell_type": "markdown",
   "metadata": {
    "_uuid": "b0feb68da70256403b17a201ede41dc63b6a4018"
   },
   "source": [
    "### Self Employed - Missing Values"
   ]
  },
  {
   "cell_type": "code",
   "execution_count": null,
   "metadata": {
    "_uuid": "22130eb3228de3f3333a14dc7c8c0fde1a306736"
   },
   "outputs": [],
   "source": [
    "# percent of missing \"Self_Employed\" \n",
    "print('Percent of missing \"Self_Employed\" records is %.2f%%' %((data['Self_Employed'].isnull().sum()/data.shape[0])*100))"
   ]
  },
  {
   "cell_type": "code",
   "execution_count": null,
   "metadata": {
    "_uuid": "df3a15752c203cee95a96a77b5a6806d7ac22098"
   },
   "outputs": [],
   "source": [
    "print(\"Number of people who take a loan group by self employed :\")\n",
    "print(data['Self_Employed'].value_counts())\n",
    "sns.countplot(x='Self_Employed', data=data, palette = 'Set2')"
   ]
  },
  {
   "cell_type": "markdown",
   "metadata": {
    "_uuid": "e5776e170a6fa45c239f454c9f378848f1a35898"
   },
   "source": [
    "### Loan Amount - Missing Values"
   ]
  },
  {
   "cell_type": "code",
   "execution_count": null,
   "metadata": {
    "_uuid": "fcbb19c2595a65d3e1261b1b6437520c40bc98f2"
   },
   "outputs": [],
   "source": [
    "# percent of missing \"LoanAmount\" \n",
    "print('Percent of missing \"LoanAmount\" records is %.2f%%' %((data['LoanAmount'].isnull().sum()/data.shape[0])*100))"
   ]
  },
  {
   "cell_type": "code",
   "execution_count": null,
   "metadata": {
    "_uuid": "ffcd2b660b6b6adbda5b18b889e89b4fb143740a"
   },
   "outputs": [],
   "source": [
    "ax = data[\"LoanAmount\"].hist(density=True, stacked=True, color='teal', alpha=0.6)\n",
    "data[\"LoanAmount\"].plot(kind='density', color='teal')\n",
    "ax.set(xlabel='Loan Amount')\n",
    "plt.show()"
   ]
  },
  {
   "cell_type": "markdown",
   "metadata": {
    "_uuid": "1c16347a28874c9f42a4318fde99d72d8b7f9aec"
   },
   "source": [
    "### Loan Amount Term - Missing Values"
   ]
  },
  {
   "cell_type": "code",
   "execution_count": null,
   "metadata": {
    "_uuid": "b4a13ee07542e0935af012981768e8638ce6b96b"
   },
   "outputs": [],
   "source": [
    "# percent of missing \"Loan_Amount_Term\" \n",
    "print('Percent of missing \"Loan_Amount_Term\" records is %.2f%%' %((data['Loan_Amount_Term'].isnull().sum()/data.shape[0])*100))"
   ]
  },
  {
   "cell_type": "code",
   "execution_count": null,
   "metadata": {
    "_uuid": "7b4aa34e32450f8d209ac3ba0e56183b3ef57c1e"
   },
   "outputs": [],
   "source": [
    "print(\"Number of people who take a loan group by loan amount term :\")\n",
    "print(data['Loan_Amount_Term'].value_counts())\n",
    "sns.countplot(x='Loan_Amount_Term', data=data, palette = 'Set2')"
   ]
  },
  {
   "cell_type": "markdown",
   "metadata": {
    "_uuid": "271bd0c5dd009d6634c24fbda01c7bb5d446d4be"
   },
   "source": [
    "### Credit History - Missing Values"
   ]
  },
  {
   "cell_type": "code",
   "execution_count": null,
   "metadata": {
    "_uuid": "fa5bc77fe10bd79ad31aa041e8f3e9a3daffba50"
   },
   "outputs": [],
   "source": [
    "# percent of missing \"Credit_History\" \n",
    "print('Percent of missing \"Credit_History\" records is %.2f%%' %((data['Credit_History'].isnull().sum()/data.shape[0])*100))"
   ]
  },
  {
   "cell_type": "code",
   "execution_count": null,
   "metadata": {
    "_uuid": "f0ec5086f833408b1d0d78d230487f3f738b4c30"
   },
   "outputs": [],
   "source": [
    "print(\"Number of people who take a loan group by credit history :\")\n",
    "print(data['Credit_History'].value_counts())\n",
    "sns.countplot(x='Credit_History', data=data, palette = 'Set2')"
   ]
  },
  {
   "cell_type": "markdown",
   "metadata": {
    "_uuid": "d6b6caf4423c775dc60f1abe216f6e9db95d6060"
   },
   "source": [
    "## 3. Final Adjustments to Data"
   ]
  },
  {
   "cell_type": "markdown",
   "metadata": {
    "_uuid": "d4a0ecb7f501aba4876fe445fb0fd8544507d677"
   },
   "source": [
    "Based on my assessment of the missing values in the dataset, I'll make the following changes to the data:\n",
    "\n",
    "* If \"Gender\" is missing for a given row, I'll impute with Male (most common answer).\n",
    "* If \"Married\" is missing for a given row, I'll impute with yes (most common answer).\n",
    "* If \"Dependents\" is missing for a given row, I'll impute with 0 (most common answer).\n",
    "* If \"Self_Employed\" is missing for a given row, I'll impute with no (most common answer).\n",
    "* If \"LoanAmount\" is missing for a given row, I'll impute with mean of data.\n",
    "* If \"Loan_Amount_Term\" is missing for a given row, I'll impute with 360 (most common answer).\n",
    "* If \"Credit_History\" is missing for a given row, I'll impute with 1.0 (most common answer)."
   ]
  },
  {
   "cell_type": "code",
   "execution_count": null,
   "metadata": {
    "_uuid": "894e949b6643bfb68a1240612554d63f8589569a"
   },
   "outputs": [],
   "source": [
    "train_data = data.copy()\n",
    "train_data['Gender'].fillna(train_data['Gender'].value_counts().idxmax(), inplace=True)\n",
    "train_data['Married'].fillna(train_data['Married'].value_counts().idxmax(), inplace=True)\n",
    "train_data['Dependents'].fillna(train_data['Dependents'].value_counts().idxmax(), inplace=True)\n",
    "train_data['Self_Employed'].fillna(train_data['Self_Employed'].value_counts().idxmax(), inplace=True)\n",
    "train_data[\"LoanAmount\"].fillna(train_data[\"LoanAmount\"].mean(skipna=True), inplace=True)\n",
    "train_data['Loan_Amount_Term'].fillna(train_data['Loan_Amount_Term'].value_counts().idxmax(), inplace=True)\n",
    "train_data['Credit_History'].fillna(train_data['Credit_History'].value_counts().idxmax(), inplace=True)"
   ]
  },
  {
   "cell_type": "code",
   "execution_count": null,
   "metadata": {
    "_uuid": "d6497eb5c19496010dee1624ee1ff9e6c36d6c78"
   },
   "outputs": [],
   "source": [
    "#Check missing values\n",
    "train_data.isnull().sum()\n",
    "train_data"
   ]
  },
  {
   "cell_type": "code",
   "execution_count": null,
   "metadata": {
    "_uuid": "556b9633cc888422761516ae59964cccfefcca12"
   },
   "outputs": [],
   "source": [
    "#Convert some object data type to int64\n",
    "gender_stat = {\"Female\": 0, \"Male\": 1}\n",
    "yes_no_stat = {'No' : 0,'Yes' : 1}\n",
    "dependents_stat = {'0':0,'1':1,'2':2,'3+':3}\n",
    "education_stat = {'Not Graduate' : 0, 'Graduate' : 1}\n",
    "property_stat = {'Semiurban' : 0, 'Urban' : 1,'Rural' : 2}\n",
    "\n",
    "train_data['Gender'] = train_data['Gender'].replace(gender_stat)\n",
    "train_data['Married'] = train_data['Married'].replace(yes_no_stat)\n",
    "train_data['Dependents'] = train_data['Dependents'].replace(dependents_stat)\n",
    "train_data['Education'] = train_data['Education'].replace(education_stat)\n",
    "train_data['Self_Employed'] = train_data['Self_Employed'].replace(yes_no_stat)\n",
    "train_data['Property_Area'] = train_data['Property_Area'].replace(property_stat)"
   ]
  },
  {
   "cell_type": "code",
   "execution_count": null,
   "metadata": {
    "_uuid": "9596d1c29586e3ece73c7a2725a11610e55ab31b"
   },
   "outputs": [],
   "source": [
    "#Preview data information\n",
    "data.info()\n",
    "data.isnull().sum()"
   ]
  },
  {
   "cell_type": "markdown",
   "metadata": {
    "_uuid": "9268ba0999065f44586f186bbb19b35eb6050ccf"
   },
   "source": [
    "## 4. Making Prediction"
   ]
  },
  {
   "cell_type": "code",
   "execution_count": null,
   "metadata": {
    "_uuid": "4857dbf76cad98f1b4442e89ba48af6eada56c0f"
   },
   "outputs": [],
   "source": [
    "#Separate feature and target\n",
    "x = train_data.iloc[:,1:12]\n",
    "y = train_data.iloc[:,12]\n",
    "\n",
    "#make variabel for save the result and to show it\n",
    "classifier = ('Gradient Boosting','Random Forest','Decision Tree','K-Nearest Neighbor','SVM')\n",
    "y_pos = np.arange(len(classifier))\n",
    "score = []"
   ]
  },
  {
   "cell_type": "code",
   "execution_count": null,
   "metadata": {
    "_uuid": "d0847242126534040f75cd4cfa08bde65d573cd0"
   },
   "outputs": [],
   "source": [
    "clf = GradientBoostingClassifier()\n",
    "scores = cross_val_score(clf, x, y,cv=5)\n",
    "score.append(scores.mean())\n",
    "print('The accuration of classification is %.2f%%' %(scores.mean()*100))"
   ]
  },
  {
   "cell_type": "code",
   "execution_count": null,
   "metadata": {
    "_uuid": "5aad2f3c6d5a3e456f3d3455521174ff65a073e8"
   },
   "outputs": [],
   "source": [
    "clf = RandomForestClassifier(n_estimators=10)\n",
    "scores = cross_val_score(clf, x, y,cv=5)\n",
    "score.append(scores.mean())\n",
    "print('The accuration of classification is %.2f%%' %(scores.mean()*100))"
   ]
  },
  {
   "cell_type": "code",
   "execution_count": null,
   "metadata": {
    "_uuid": "0e99d94b69e7794753e3f07f6e56e2cf20f817dd"
   },
   "outputs": [],
   "source": [
    "clf = DecisionTreeClassifier()\n",
    "scores = cross_val_score(clf, x, y,cv=5)\n",
    "score.append(scores.mean())\n",
    "print('The accuration of classification is %.2f%%' %(scores.mean()*100))"
   ]
  },
  {
   "cell_type": "code",
   "execution_count": null,
   "metadata": {
    "_uuid": "95e4847005cb343fd68dc69607d83ae9ad854ca4"
   },
   "outputs": [],
   "source": [
    "clf = KNeighborsClassifier()\n",
    "scores = cross_val_score(clf, x, y,cv=5)\n",
    "score.append(scores.mean())\n",
    "print('The accuration of classification is %.2f%%' %(scores.mean()*100))"
   ]
  },
  {
   "cell_type": "code",
   "execution_count": null,
   "metadata": {
    "_uuid": "dd5da2e32cf29b3c93aaaeae6092d4206de3b8b3"
   },
   "outputs": [],
   "source": [
    "clf  =  svm.LinearSVC(max_iter=10000)\n",
    "scores = cross_val_score(clf, x, y,cv=5)\n",
    "score.append(scores.mean())\n",
    "print('The accuration of classification is %.2f%%' %(scores.mean()*100))"
   ]
  },
  {
   "cell_type": "markdown",
   "metadata": {
    "_uuid": "727b51cb08b3f67e1776338c4da069403409991a"
   },
   "source": [
    "## 5. Result"
   ]
  },
  {
   "cell_type": "markdown",
   "metadata": {
    "_uuid": "1df4f384625b03c549ef1f5586511548cf056cf7"
   },
   "source": [
    "The result is Gradient Boosting Classifier have the highest score from other classification algorithm. These result are similar to my previous works."
   ]
  },
  {
   "cell_type": "code",
   "execution_count": null,
   "metadata": {
    "_uuid": "1f66e16f6710d84718975d736355d74896c43365"
   },
   "outputs": [],
   "source": [
    "plt.barh(y_pos, score, align='center', alpha=0.5)\n",
    "plt.yticks(y_pos, classifier)\n",
    "plt.xlabel('Score')\n",
    "plt.title('Classification Performance')\n",
    "plt.show()"
   ]
  },
  {
   "cell_type": "markdown",
   "metadata": {
    "_uuid": "2e83b45b7a98c92b96225087b71bc0d837a5980c"
   },
   "source": [
    "## Reference\n",
    "1. J. Heo and J. Y. Yang, \"AdaBoost Based Bankruptcy Forecasting of Korean Construction Company,\" Applied Soft Computing, vol. 24, pp. 494-499, 2014.\n",
    "2. C.-F. Tsai, \"Feature Selection in Bankruptcy Prediction,\" Knowledge Based System, pp. 120-127, 2009."
   ]
  },
  {
   "cell_type": "code",
   "execution_count": null,
   "metadata": {
    "_uuid": "d4ae21e8ef642e43387cbe2b9c5bedef8f367f78"
   },
   "outputs": [],
   "source": []
  }
 ],
 "metadata": {
  "kernelspec": {
   "display_name": "Python 3 (ipykernel)",
   "language": "python",
   "name": "python3"
  },
  "language_info": {
   "codemirror_mode": {
    "name": "ipython",
    "version": 3
   },
   "file_extension": ".py",
   "mimetype": "text/x-python",
   "name": "python",
   "nbconvert_exporter": "python",
   "pygments_lexer": "ipython3",
   "version": "3.10.9"
  }
 },
 "nbformat": 4,
 "nbformat_minor": 1
}
