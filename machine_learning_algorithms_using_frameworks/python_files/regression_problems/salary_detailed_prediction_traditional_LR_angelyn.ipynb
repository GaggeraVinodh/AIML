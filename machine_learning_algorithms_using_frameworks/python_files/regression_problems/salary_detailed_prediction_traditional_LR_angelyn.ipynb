{
  "nbformat": 4,
  "nbformat_minor": 0,
  "metadata": {
    "colab": {
      "provenance": []
    },
    "kernelspec": {
      "name": "python3",
      "display_name": "Python 3"
    },
    "language_info": {
      "name": "python"
    }
  },
  "cells": [
    {
      "cell_type": "code",
      "execution_count": 1,
      "metadata": {
        "id": "k5wQ2DRM43pX"
      },
      "outputs": [],
      "source": [
        "# Using Linear Regression\n",
        "import numpy as np\n",
        "import pandas as pd"
      ]
    },
    {
      "cell_type": "code",
      "source": [
        "dataset=pd.read_csv(\"https://raw.githubusercontent.com/enuguru/aiandml/master/machine_learning_algorithms_using_frameworks/python_files/regression/salary_regression/multiple_linear_regression/Salary%20Data.csv\")\n",
        "dataset.head()\n",
        "\n",
        "pd.unique(dataset[\"Job Title\"])\n",
        "dataset=dataset.drop(\"Job Title\",axis=1)\n",
        "pd.unique(dataset[\"Education Level\"])"
      ],
      "metadata": {
        "colab": {
          "base_uri": "https://localhost:8080/"
        },
        "id": "bciKChgo5Qoo",
        "outputId": "2973c8fc-1552-4537-9899-0dea23cd092b"
      },
      "execution_count": 2,
      "outputs": [
        {
          "output_type": "execute_result",
          "data": {
            "text/plain": [
              "array([\"Bachelor's\", \"Master's\", 'PhD', nan], dtype=object)"
            ]
          },
          "metadata": {},
          "execution_count": 2
        }
      ]
    },
    {
      "cell_type": "code",
      "source": [
        "new_dataset=pd.get_dummies(dataset,columns=[\"Gender\",\"Education Level\"],dtype=int)\n",
        "print(new_dataset.head())\n",
        "new_dataset.isnull().sum()\n",
        "new_dataset=new_dataset.dropna()\n",
        "new_dataset.isnull().sum()"
      ],
      "metadata": {
        "colab": {
          "base_uri": "https://localhost:8080/"
        },
        "id": "W7Fi36l85WdR",
        "outputId": "07618967-0e2f-4f2e-d53b-d928b0b72e38"
      },
      "execution_count": 4,
      "outputs": [
        {
          "output_type": "stream",
          "name": "stdout",
          "text": [
            "    Age  Years of Experience    Salary  Gender_Female  Gender_Male  \\\n",
            "0  32.0                  5.0   90000.0              0            1   \n",
            "1  28.0                  3.0   65000.0              1            0   \n",
            "2  45.0                 15.0  150000.0              0            1   \n",
            "3  36.0                  7.0   60000.0              1            0   \n",
            "4  52.0                 20.0  200000.0              0            1   \n",
            "\n",
            "   Education Level_Bachelor's  Education Level_Master's  Education Level_PhD  \n",
            "0                           1                         0                    0  \n",
            "1                           0                         1                    0  \n",
            "2                           0                         0                    1  \n",
            "3                           1                         0                    0  \n",
            "4                           0                         1                    0  \n"
          ]
        },
        {
          "output_type": "execute_result",
          "data": {
            "text/plain": [
              "Age                           0\n",
              "Years of Experience           0\n",
              "Salary                        0\n",
              "Gender_Female                 0\n",
              "Gender_Male                   0\n",
              "Education Level_Bachelor's    0\n",
              "Education Level_Master's      0\n",
              "Education Level_PhD           0\n",
              "dtype: int64"
            ]
          },
          "metadata": {},
          "execution_count": 4
        }
      ]
    },
    {
      "cell_type": "code",
      "source": [
        "from sklearn.preprocessing import StandardScaler\n",
        "from sklearn.model_selection import train_test_split\n",
        "\n",
        "#Input and output\n",
        "y=new_dataset[\"Salary\"]\n",
        "X=new_dataset.drop(\"Salary\",axis=1)\n",
        "\n"
      ],
      "metadata": {
        "id": "qhVCzQrA5Lpq"
      },
      "execution_count": 5,
      "outputs": []
    },
    {
      "cell_type": "code",
      "source": [
        "#Train and test split\n",
        "X_train,X_test,y_train,y_test=train_test_split(X,y,random_state=42,test_size=0.1)\n",
        "y_train = y_train.values.reshape(-1, 1)\n",
        "y_test = y_test.values.reshape(-1, 1)\n",
        "print(X_train.shape)\n",
        "print(y_train.shape)\n",
        "print(X_test.shape)\n",
        "print(y_test.shape)"
      ],
      "metadata": {
        "colab": {
          "base_uri": "https://localhost:8080/"
        },
        "id": "6_nQkYNg5IvK",
        "outputId": "df83678b-f2c7-4768-e787-cc57d092c7c1"
      },
      "execution_count": 6,
      "outputs": [
        {
          "output_type": "stream",
          "name": "stdout",
          "text": [
            "(335, 7)\n",
            "(335, 1)\n",
            "(38, 7)\n",
            "(38, 1)\n"
          ]
        }
      ]
    },
    {
      "cell_type": "code",
      "source": [
        "#Scaling input and output\n",
        "scaler_X = StandardScaler()\n",
        "X_train_scaled = scaler_X.fit_transform(X_train)\n",
        "# print(X_train_scaled)\n",
        "y_train = y_train.reshape(-1, 1)\n",
        "scaler_y = StandardScaler()\n",
        "y_train_scaled = scaler_y.fit_transform(y_train)\n",
        "# print(y_train_scaled)\n",
        "X_test_scaled = scaler_X.transform(X_test)\n",
        "y_test = y_test.reshape(-1, 1)\n",
        "y_test_scaled = scaler_y.transform(y_test)"
      ],
      "metadata": {
        "id": "2Lz9oWm65BxL"
      },
      "execution_count": 7,
      "outputs": []
    },
    {
      "cell_type": "code",
      "source": [
        "#model\n",
        "from sklearn.linear_model import LinearRegression\n",
        "regressor=LinearRegression()\n",
        "regressor.fit(X_train_scaled, y_train_scaled)"
      ],
      "metadata": {
        "colab": {
          "base_uri": "https://localhost:8080/",
          "height": 74
        },
        "id": "3cDffD4m49sK",
        "outputId": "fdeffd75-d76e-4c33-d87a-7de3eb7d89db"
      },
      "execution_count": 8,
      "outputs": [
        {
          "output_type": "execute_result",
          "data": {
            "text/plain": [
              "LinearRegression()"
            ],
            "text/html": [
              "<style>#sk-container-id-1 {color: black;background-color: white;}#sk-container-id-1 pre{padding: 0;}#sk-container-id-1 div.sk-toggleable {background-color: white;}#sk-container-id-1 label.sk-toggleable__label {cursor: pointer;display: block;width: 100%;margin-bottom: 0;padding: 0.3em;box-sizing: border-box;text-align: center;}#sk-container-id-1 label.sk-toggleable__label-arrow:before {content: \"▸\";float: left;margin-right: 0.25em;color: #696969;}#sk-container-id-1 label.sk-toggleable__label-arrow:hover:before {color: black;}#sk-container-id-1 div.sk-estimator:hover label.sk-toggleable__label-arrow:before {color: black;}#sk-container-id-1 div.sk-toggleable__content {max-height: 0;max-width: 0;overflow: hidden;text-align: left;background-color: #f0f8ff;}#sk-container-id-1 div.sk-toggleable__content pre {margin: 0.2em;color: black;border-radius: 0.25em;background-color: #f0f8ff;}#sk-container-id-1 input.sk-toggleable__control:checked~div.sk-toggleable__content {max-height: 200px;max-width: 100%;overflow: auto;}#sk-container-id-1 input.sk-toggleable__control:checked~label.sk-toggleable__label-arrow:before {content: \"▾\";}#sk-container-id-1 div.sk-estimator input.sk-toggleable__control:checked~label.sk-toggleable__label {background-color: #d4ebff;}#sk-container-id-1 div.sk-label input.sk-toggleable__control:checked~label.sk-toggleable__label {background-color: #d4ebff;}#sk-container-id-1 input.sk-hidden--visually {border: 0;clip: rect(1px 1px 1px 1px);clip: rect(1px, 1px, 1px, 1px);height: 1px;margin: -1px;overflow: hidden;padding: 0;position: absolute;width: 1px;}#sk-container-id-1 div.sk-estimator {font-family: monospace;background-color: #f0f8ff;border: 1px dotted black;border-radius: 0.25em;box-sizing: border-box;margin-bottom: 0.5em;}#sk-container-id-1 div.sk-estimator:hover {background-color: #d4ebff;}#sk-container-id-1 div.sk-parallel-item::after {content: \"\";width: 100%;border-bottom: 1px solid gray;flex-grow: 1;}#sk-container-id-1 div.sk-label:hover label.sk-toggleable__label {background-color: #d4ebff;}#sk-container-id-1 div.sk-serial::before {content: \"\";position: absolute;border-left: 1px solid gray;box-sizing: border-box;top: 0;bottom: 0;left: 50%;z-index: 0;}#sk-container-id-1 div.sk-serial {display: flex;flex-direction: column;align-items: center;background-color: white;padding-right: 0.2em;padding-left: 0.2em;position: relative;}#sk-container-id-1 div.sk-item {position: relative;z-index: 1;}#sk-container-id-1 div.sk-parallel {display: flex;align-items: stretch;justify-content: center;background-color: white;position: relative;}#sk-container-id-1 div.sk-item::before, #sk-container-id-1 div.sk-parallel-item::before {content: \"\";position: absolute;border-left: 1px solid gray;box-sizing: border-box;top: 0;bottom: 0;left: 50%;z-index: -1;}#sk-container-id-1 div.sk-parallel-item {display: flex;flex-direction: column;z-index: 1;position: relative;background-color: white;}#sk-container-id-1 div.sk-parallel-item:first-child::after {align-self: flex-end;width: 50%;}#sk-container-id-1 div.sk-parallel-item:last-child::after {align-self: flex-start;width: 50%;}#sk-container-id-1 div.sk-parallel-item:only-child::after {width: 0;}#sk-container-id-1 div.sk-dashed-wrapped {border: 1px dashed gray;margin: 0 0.4em 0.5em 0.4em;box-sizing: border-box;padding-bottom: 0.4em;background-color: white;}#sk-container-id-1 div.sk-label label {font-family: monospace;font-weight: bold;display: inline-block;line-height: 1.2em;}#sk-container-id-1 div.sk-label-container {text-align: center;}#sk-container-id-1 div.sk-container {/* jupyter's `normalize.less` sets `[hidden] { display: none; }` but bootstrap.min.css set `[hidden] { display: none !important; }` so we also need the `!important` here to be able to override the default hidden behavior on the sphinx rendered scikit-learn.org. See: https://github.com/scikit-learn/scikit-learn/issues/21755 */display: inline-block !important;position: relative;}#sk-container-id-1 div.sk-text-repr-fallback {display: none;}</style><div id=\"sk-container-id-1\" class=\"sk-top-container\"><div class=\"sk-text-repr-fallback\"><pre>LinearRegression()</pre><b>In a Jupyter environment, please rerun this cell to show the HTML representation or trust the notebook. <br />On GitHub, the HTML representation is unable to render, please try loading this page with nbviewer.org.</b></div><div class=\"sk-container\" hidden><div class=\"sk-item\"><div class=\"sk-estimator sk-toggleable\"><input class=\"sk-toggleable__control sk-hidden--visually\" id=\"sk-estimator-id-1\" type=\"checkbox\" checked><label for=\"sk-estimator-id-1\" class=\"sk-toggleable__label sk-toggleable__label-arrow\">LinearRegression</label><div class=\"sk-toggleable__content\"><pre>LinearRegression()</pre></div></div></div></div></div>"
            ]
          },
          "metadata": {},
          "execution_count": 8
        }
      ]
    },
    {
      "cell_type": "code",
      "source": [
        "#predictions\n",
        "ypred = regressor.predict(X_test_scaled)\n",
        "\n",
        "ypred_reshaped = ypred.reshape(-1, 1)\n",
        "ypred_decoded = scaler_y.inverse_transform(ypred_reshaped)\n",
        "\n",
        "for index in range(len(y_test)):\n",
        "  print(y_test[index],  ypred_decoded[index])\n",
        "\n",
        "#validation: rms score\n",
        "from sklearn.metrics import r2_score\n",
        "print(r2_score(y_test, ypred_decoded))"
      ],
      "metadata": {
        "colab": {
          "base_uri": "https://localhost:8080/"
        },
        "id": "vDeT2ok048xh",
        "outputId": "55a044d5-0e7d-408e-da9a-99ea225df1f5"
      },
      "execution_count": 9,
      "outputs": [
        {
          "output_type": "stream",
          "name": "stdout",
          "text": [
            "[180000.] [176985.59904048]\n",
            "[65000.] [92551.39204512]\n",
            "[125000.] [132700.33746808]\n",
            "[80000.] [85044.18975435]\n",
            "[140000.] [156721.34409568]\n",
            "[160000.] [153748.28156924]\n",
            "[160000.] [158500.86597674]\n",
            "[120000.] [107469.40965809]\n",
            "[50000.] [57889.00077685]\n",
            "[95000.] [102308.34437541]\n",
            "[140000.] [134296.12419194]\n",
            "[160000.] [161473.92850317]\n",
            "[35000.] [39705.70435945]\n",
            "[95000.] [89310.16546636]\n",
            "[110000.] [127405.19015924]\n",
            "[50000.] [57889.00077685]\n",
            "[90000.] [66291.29263829]\n",
            "[50000.] [51380.09644128]\n",
            "[90000.] [77800.72905233]\n",
            "[95000.] [102174.26234925]\n",
            "[110000.] [122652.60575174]\n",
            "[105000.] [111036.12510886]\n",
            "[190000.] [160288.05954645]\n",
            "[70000.] [60670.65645743]\n",
            "[100000.] [85044.18975435]\n",
            "[50000.] [48701.64914522]\n",
            "[160000.] [168690.35140789]\n",
            "[40000.] [45919.99346464]\n",
            "[120000.] [122220.07265088]\n",
            "[170000.] [156154.72896866]\n",
            "[45000.] [39839.78638561]\n",
            "[100000.] [127974.7908579]\n",
            "[60000.] [54781.85622425]\n",
            "[150000.] [145805.56060598]\n",
            "[110000.] [89444.24749252]\n",
            "[35000.] [17685.12948657]\n",
            "[180000.] [179740.21692375]\n",
            "[50000.] [52134.28256983]\n",
            "0.9248835607205534\n"
          ]
        }
      ]
    }
  ]
}