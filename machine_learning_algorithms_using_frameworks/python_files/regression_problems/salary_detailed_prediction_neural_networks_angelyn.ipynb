{
  "nbformat": 4,
  "nbformat_minor": 0,
  "metadata": {
    "colab": {
      "provenance": []
    },
    "kernelspec": {
      "name": "python3",
      "display_name": "Python 3"
    },
    "language_info": {
      "name": "python"
    }
  },
  "cells": [
    {
      "cell_type": "code",
      "source": [
        "!pip install tensorflow scikeras scikit-learn"
      ],
      "metadata": {
        "colab": {
          "base_uri": "https://localhost:8080/"
        },
        "id": "bohL2GzEta6T",
        "outputId": "a432577d-fb83-4fcc-f5bf-98239e5c86cc"
      },
      "execution_count": 1,
      "outputs": [
        {
          "output_type": "stream",
          "name": "stdout",
          "text": [
            "Requirement already satisfied: tensorflow in /usr/local/lib/python3.10/dist-packages (2.15.0)\n",
            "Collecting scikeras\n",
            "  Downloading scikeras-0.12.0-py3-none-any.whl (27 kB)\n",
            "Requirement already satisfied: scikit-learn in /usr/local/lib/python3.10/dist-packages (1.2.2)\n",
            "Requirement already satisfied: absl-py>=1.0.0 in /usr/local/lib/python3.10/dist-packages (from tensorflow) (1.4.0)\n",
            "Requirement already satisfied: astunparse>=1.6.0 in /usr/local/lib/python3.10/dist-packages (from tensorflow) (1.6.3)\n",
            "Requirement already satisfied: flatbuffers>=23.5.26 in /usr/local/lib/python3.10/dist-packages (from tensorflow) (24.3.25)\n",
            "Requirement already satisfied: gast!=0.5.0,!=0.5.1,!=0.5.2,>=0.2.1 in /usr/local/lib/python3.10/dist-packages (from tensorflow) (0.5.4)\n",
            "Requirement already satisfied: google-pasta>=0.1.1 in /usr/local/lib/python3.10/dist-packages (from tensorflow) (0.2.0)\n",
            "Requirement already satisfied: h5py>=2.9.0 in /usr/local/lib/python3.10/dist-packages (from tensorflow) (3.9.0)\n",
            "Requirement already satisfied: libclang>=13.0.0 in /usr/local/lib/python3.10/dist-packages (from tensorflow) (18.1.1)\n",
            "Requirement already satisfied: ml-dtypes~=0.2.0 in /usr/local/lib/python3.10/dist-packages (from tensorflow) (0.2.0)\n",
            "Requirement already satisfied: numpy<2.0.0,>=1.23.5 in /usr/local/lib/python3.10/dist-packages (from tensorflow) (1.25.2)\n",
            "Requirement already satisfied: opt-einsum>=2.3.2 in /usr/local/lib/python3.10/dist-packages (from tensorflow) (3.3.0)\n",
            "Requirement already satisfied: packaging in /usr/local/lib/python3.10/dist-packages (from tensorflow) (24.0)\n",
            "Requirement already satisfied: protobuf!=4.21.0,!=4.21.1,!=4.21.2,!=4.21.3,!=4.21.4,!=4.21.5,<5.0.0dev,>=3.20.3 in /usr/local/lib/python3.10/dist-packages (from tensorflow) (3.20.3)\n",
            "Requirement already satisfied: setuptools in /usr/local/lib/python3.10/dist-packages (from tensorflow) (67.7.2)\n",
            "Requirement already satisfied: six>=1.12.0 in /usr/local/lib/python3.10/dist-packages (from tensorflow) (1.16.0)\n",
            "Requirement already satisfied: termcolor>=1.1.0 in /usr/local/lib/python3.10/dist-packages (from tensorflow) (2.4.0)\n",
            "Requirement already satisfied: typing-extensions>=3.6.6 in /usr/local/lib/python3.10/dist-packages (from tensorflow) (4.10.0)\n",
            "Requirement already satisfied: wrapt<1.15,>=1.11.0 in /usr/local/lib/python3.10/dist-packages (from tensorflow) (1.14.1)\n",
            "Requirement already satisfied: tensorflow-io-gcs-filesystem>=0.23.1 in /usr/local/lib/python3.10/dist-packages (from tensorflow) (0.36.0)\n",
            "Requirement already satisfied: grpcio<2.0,>=1.24.3 in /usr/local/lib/python3.10/dist-packages (from tensorflow) (1.62.1)\n",
            "Requirement already satisfied: tensorboard<2.16,>=2.15 in /usr/local/lib/python3.10/dist-packages (from tensorflow) (2.15.2)\n",
            "Requirement already satisfied: tensorflow-estimator<2.16,>=2.15.0 in /usr/local/lib/python3.10/dist-packages (from tensorflow) (2.15.0)\n",
            "Requirement already satisfied: keras<2.16,>=2.15.0 in /usr/local/lib/python3.10/dist-packages (from tensorflow) (2.15.0)\n",
            "Requirement already satisfied: scipy>=1.3.2 in /usr/local/lib/python3.10/dist-packages (from scikit-learn) (1.11.4)\n",
            "Requirement already satisfied: joblib>=1.1.1 in /usr/local/lib/python3.10/dist-packages (from scikit-learn) (1.3.2)\n",
            "Requirement already satisfied: threadpoolctl>=2.0.0 in /usr/local/lib/python3.10/dist-packages (from scikit-learn) (3.4.0)\n",
            "Requirement already satisfied: wheel<1.0,>=0.23.0 in /usr/local/lib/python3.10/dist-packages (from astunparse>=1.6.0->tensorflow) (0.43.0)\n",
            "Requirement already satisfied: google-auth<3,>=1.6.3 in /usr/local/lib/python3.10/dist-packages (from tensorboard<2.16,>=2.15->tensorflow) (2.27.0)\n",
            "Requirement already satisfied: google-auth-oauthlib<2,>=0.5 in /usr/local/lib/python3.10/dist-packages (from tensorboard<2.16,>=2.15->tensorflow) (1.2.0)\n",
            "Requirement already satisfied: markdown>=2.6.8 in /usr/local/lib/python3.10/dist-packages (from tensorboard<2.16,>=2.15->tensorflow) (3.6)\n",
            "Requirement already satisfied: requests<3,>=2.21.0 in /usr/local/lib/python3.10/dist-packages (from tensorboard<2.16,>=2.15->tensorflow) (2.31.0)\n",
            "Requirement already satisfied: tensorboard-data-server<0.8.0,>=0.7.0 in /usr/local/lib/python3.10/dist-packages (from tensorboard<2.16,>=2.15->tensorflow) (0.7.2)\n",
            "Requirement already satisfied: werkzeug>=1.0.1 in /usr/local/lib/python3.10/dist-packages (from tensorboard<2.16,>=2.15->tensorflow) (3.0.2)\n",
            "Requirement already satisfied: cachetools<6.0,>=2.0.0 in /usr/local/lib/python3.10/dist-packages (from google-auth<3,>=1.6.3->tensorboard<2.16,>=2.15->tensorflow) (5.3.3)\n",
            "Requirement already satisfied: pyasn1-modules>=0.2.1 in /usr/local/lib/python3.10/dist-packages (from google-auth<3,>=1.6.3->tensorboard<2.16,>=2.15->tensorflow) (0.4.0)\n",
            "Requirement already satisfied: rsa<5,>=3.1.4 in /usr/local/lib/python3.10/dist-packages (from google-auth<3,>=1.6.3->tensorboard<2.16,>=2.15->tensorflow) (4.9)\n",
            "Requirement already satisfied: requests-oauthlib>=0.7.0 in /usr/local/lib/python3.10/dist-packages (from google-auth-oauthlib<2,>=0.5->tensorboard<2.16,>=2.15->tensorflow) (1.3.1)\n",
            "Requirement already satisfied: charset-normalizer<4,>=2 in /usr/local/lib/python3.10/dist-packages (from requests<3,>=2.21.0->tensorboard<2.16,>=2.15->tensorflow) (3.3.2)\n",
            "Requirement already satisfied: idna<4,>=2.5 in /usr/local/lib/python3.10/dist-packages (from requests<3,>=2.21.0->tensorboard<2.16,>=2.15->tensorflow) (3.6)\n",
            "Requirement already satisfied: urllib3<3,>=1.21.1 in /usr/local/lib/python3.10/dist-packages (from requests<3,>=2.21.0->tensorboard<2.16,>=2.15->tensorflow) (2.0.7)\n",
            "Requirement already satisfied: certifi>=2017.4.17 in /usr/local/lib/python3.10/dist-packages (from requests<3,>=2.21.0->tensorboard<2.16,>=2.15->tensorflow) (2024.2.2)\n",
            "Requirement already satisfied: MarkupSafe>=2.1.1 in /usr/local/lib/python3.10/dist-packages (from werkzeug>=1.0.1->tensorboard<2.16,>=2.15->tensorflow) (2.1.5)\n",
            "Requirement already satisfied: pyasn1<0.7.0,>=0.4.6 in /usr/local/lib/python3.10/dist-packages (from pyasn1-modules>=0.2.1->google-auth<3,>=1.6.3->tensorboard<2.16,>=2.15->tensorflow) (0.6.0)\n",
            "Requirement already satisfied: oauthlib>=3.0.0 in /usr/local/lib/python3.10/dist-packages (from requests-oauthlib>=0.7.0->google-auth-oauthlib<2,>=0.5->tensorboard<2.16,>=2.15->tensorflow) (3.2.2)\n",
            "Installing collected packages: scikeras\n",
            "Successfully installed scikeras-0.12.0\n"
          ]
        }
      ]
    },
    {
      "cell_type": "code",
      "execution_count": 2,
      "metadata": {
        "id": "DNU-cMumsrQ4"
      },
      "outputs": [],
      "source": [
        "import numpy as np\n",
        "import pandas as pd\n",
        "from tensorflow.keras.models import Sequential\n",
        "from tensorflow.keras.layers import Dense\n",
        "from scikeras.wrappers import KerasRegressor\n",
        "from tensorflow.keras.utils import to_categorical\n",
        "from sklearn.model_selection import cross_val_score\n",
        "from sklearn.model_selection import cross_validate\n",
        "from sklearn.model_selection import KFold\n",
        "from sklearn.preprocessing import StandardScaler\n",
        "from sklearn.model_selection import train_test_split"
      ]
    },
    {
      "cell_type": "code",
      "source": [
        "# fix random seed for reproducibility\n",
        "seed = 7\n",
        "np.random.seed(seed)\n",
        "# load dataset\n",
        "dataset=pd.read_csv(\"https://raw.githubusercontent.com/enuguru/aiandml/master/machine_learning_algorithms_using_frameworks/python_files/regression/salary_regression/multiple_linear_regression/Salary%20Data.csv\")\n",
        "print(dataset.head())\n",
        "\n",
        "print(type(dataset))\n",
        "print(dataset.size)"
      ],
      "metadata": {
        "colab": {
          "base_uri": "https://localhost:8080/"
        },
        "id": "oyMIE8Q0s2jb",
        "outputId": "9699d3ec-1c4b-4741-e1e5-e1e66de0ea7a"
      },
      "execution_count": 15,
      "outputs": [
        {
          "output_type": "stream",
          "name": "stdout",
          "text": [
            "    Age  Gender Education Level          Job Title  Years of Experience  \\\n",
            "0  32.0    Male      Bachelor's  Software Engineer                  5.0   \n",
            "1  28.0  Female        Master's       Data Analyst                  3.0   \n",
            "2  45.0    Male             PhD     Senior Manager                 15.0   \n",
            "3  36.0  Female      Bachelor's    Sales Associate                  7.0   \n",
            "4  52.0    Male        Master's           Director                 20.0   \n",
            "\n",
            "     Salary  \n",
            "0   90000.0  \n",
            "1   65000.0  \n",
            "2  150000.0  \n",
            "3   60000.0  \n",
            "4  200000.0  \n",
            "<class 'pandas.core.frame.DataFrame'>\n",
            "2250\n"
          ]
        }
      ]
    },
    {
      "cell_type": "code",
      "source": [
        "pd.unique(dataset[\"Job Title\"])\n",
        "dataset=dataset.drop(\"Job Title\",axis=1)\n",
        "pd.unique(dataset[\"Education Level\"])\n",
        "\n",
        "new_dataset=pd.get_dummies(dataset,columns=[\"Gender\",\"Education Level\"],dtype=int)\n",
        "print(new_dataset.head())\n",
        "\n",
        "new_dataset.isnull().sum()\n",
        "new_dataset=new_dataset.dropna()\n",
        "new_dataset.isnull().sum()"
      ],
      "metadata": {
        "colab": {
          "base_uri": "https://localhost:8080/"
        },
        "id": "cLLYnPfYto_B",
        "outputId": "e368bd8e-e63f-43e8-b643-101d84785a01"
      },
      "execution_count": 16,
      "outputs": [
        {
          "output_type": "stream",
          "name": "stdout",
          "text": [
            "    Age  Years of Experience    Salary  Gender_Female  Gender_Male  \\\n",
            "0  32.0                  5.0   90000.0              0            1   \n",
            "1  28.0                  3.0   65000.0              1            0   \n",
            "2  45.0                 15.0  150000.0              0            1   \n",
            "3  36.0                  7.0   60000.0              1            0   \n",
            "4  52.0                 20.0  200000.0              0            1   \n",
            "\n",
            "   Education Level_Bachelor's  Education Level_Master's  Education Level_PhD  \n",
            "0                           1                         0                    0  \n",
            "1                           0                         1                    0  \n",
            "2                           0                         0                    1  \n",
            "3                           1                         0                    0  \n",
            "4                           0                         1                    0  \n"
          ]
        },
        {
          "output_type": "execute_result",
          "data": {
            "text/plain": [
              "Age                           0\n",
              "Years of Experience           0\n",
              "Salary                        0\n",
              "Gender_Female                 0\n",
              "Gender_Male                   0\n",
              "Education Level_Bachelor's    0\n",
              "Education Level_Master's      0\n",
              "Education Level_PhD           0\n",
              "dtype: int64"
            ]
          },
          "metadata": {},
          "execution_count": 16
        }
      ]
    },
    {
      "cell_type": "code",
      "source": [
        "#Input features and output\n",
        "y=new_dataset[\"Salary\"]\n",
        "X=new_dataset.drop(\"Salary\",axis=1)\n",
        "print(X.shape)\n",
        "print(y.shape)"
      ],
      "metadata": {
        "colab": {
          "base_uri": "https://localhost:8080/"
        },
        "id": "cMVopsV1s8KL",
        "outputId": "2faaec76-bd79-4a21-c182-d62cf524d264"
      },
      "execution_count": 5,
      "outputs": [
        {
          "output_type": "stream",
          "name": "stdout",
          "text": [
            "(373, 7)\n",
            "(373,)\n"
          ]
        }
      ]
    },
    {
      "cell_type": "code",
      "source": [
        "#Train and Test Split\n",
        "X_train,X_test,y_train,y_test=train_test_split(X,y,random_state=42,test_size=0.1)\n",
        "y_train = y_train.values.reshape(-1, 1)\n",
        "y_test = y_test.values.reshape(-1, 1)\n",
        "print(X_train.shape)\n",
        "print(y_train.shape)\n",
        "print(X_test.shape)\n",
        "print(y_test.shape)"
      ],
      "metadata": {
        "colab": {
          "base_uri": "https://localhost:8080/"
        },
        "id": "UtFmVv8CtHKq",
        "outputId": "cdcf3162-4113-483a-c79a-268b782c861f"
      },
      "execution_count": 7,
      "outputs": [
        {
          "output_type": "stream",
          "name": "stdout",
          "text": [
            "(335, 7)\n",
            "(335, 1)\n",
            "(38, 7)\n",
            "(38, 1)\n"
          ]
        }
      ]
    },
    {
      "cell_type": "code",
      "source": [
        "#Scaling input and output\n",
        "scaler_X = StandardScaler()\n",
        "X_train_scaled = scaler_X.fit_transform(X_train)\n",
        "print(X_train_scaled)\n",
        "y_train = y_train.reshape(-1, 1)\n",
        "scaler_y = StandardScaler()\n",
        "y_train_scaled = scaler_y.fit_transform(y_train)\n",
        "print(y_train_scaled)\n",
        "X_test_scaled = scaler_X.transform(X_test)\n",
        "y_test = y_test.reshape(-1, 1)\n",
        "y_test_scaled = scaler_y.transform(y_test)"
      ],
      "metadata": {
        "colab": {
          "base_uri": "https://localhost:8080/"
        },
        "id": "JrsJEUFAtKhS",
        "outputId": "10136ba1-a6b0-4bc6-ad1f-d029e45a0047"
      },
      "execution_count": 8,
      "outputs": [
        {
          "output_type": "stream",
          "name": "stdout",
          "text": [
            "[[ 0.78565268  1.21779517  1.02723645 ... -1.25575598 -0.59228916\n",
            "   2.60589671]\n",
            " [-0.91328426 -0.91772898 -0.97348571 ...  0.79633306 -0.59228916\n",
            "  -0.38374506]\n",
            " [-1.05486233 -1.22280386  1.02723645 ...  0.79633306 -0.59228916\n",
            "  -0.38374506]\n",
            " ...\n",
            " [-0.06381579 -0.30757922 -0.97348571 ...  0.79633306 -0.59228916\n",
            "  -0.38374506]\n",
            " [ 0.92723075  0.91272029  1.02723645 ... -1.25575598 -0.59228916\n",
            "   2.60589671]\n",
            " [ 1.63512114  1.37033261  1.02723645 ... -1.25575598  1.68836451\n",
            "  -0.38374506]]\n",
            "[[ 0.8207572 ]\n",
            " [-1.03708664]\n",
            " [-1.24351373]\n",
            " [-0.00495117]\n",
            " [ 3.09145523]\n",
            " [ 1.44003848]\n",
            " [-1.24351373]\n",
            " [ 0.8207572 ]\n",
            " [ 0.40790302]\n",
            " [-0.727446  ]\n",
            " [-0.93387309]\n",
            " [-1.24351373]\n",
            " [ 1.64646558]\n",
            " [-0.21137826]\n",
            " [ 0.61433011]\n",
            " [-0.00495117]\n",
            " [ 0.20147592]\n",
            " [ 0.61433011]\n",
            " [ 1.44003848]\n",
            " [-0.83065954]\n",
            " [ 1.64646558]\n",
            " [-0.00495117]\n",
            " [-0.00495117]\n",
            " [ 1.0271843 ]\n",
            " [ 1.64646558]\n",
            " [-0.5210189 ]\n",
            " [-1.14030018]\n",
            " [-1.24351373]\n",
            " [-1.14030018]\n",
            " [ 0.20147592]\n",
            " [-1.24351373]\n",
            " [-1.44994082]\n",
            " [-0.5210189 ]\n",
            " [-0.21137826]\n",
            " [-0.83065954]\n",
            " [ 0.8207572 ]\n",
            " [ 0.20147592]\n",
            " [-0.10816472]\n",
            " [-0.10816472]\n",
            " [-1.24351373]\n",
            " [-0.62423245]\n",
            " [-0.21137826]\n",
            " [ 0.40790302]\n",
            " [ 1.0271843 ]\n",
            " [-0.41780536]\n",
            " [-0.21137826]\n",
            " [-0.727446  ]\n",
            " [ 0.61433011]\n",
            " [-0.00495117]\n",
            " [ 1.23361139]\n",
            " [-0.41780536]\n",
            " [ 0.20147592]\n",
            " [ 0.20147592]\n",
            " [ 1.44003848]\n",
            " [ 0.30468947]\n",
            " [ 1.64646558]\n",
            " [ 0.8207572 ]\n",
            " [ 0.40790302]\n",
            " [ 0.20147592]\n",
            " [ 0.30468947]\n",
            " [-1.03708664]\n",
            " [ 0.8207572 ]\n",
            " [-1.14030018]\n",
            " [-0.93387309]\n",
            " [-1.03708664]\n",
            " [-2.06199715]\n",
            " [-1.24351373]\n",
            " [-0.93387309]\n",
            " [-1.14030018]\n",
            " [-0.31459181]\n",
            " [ 1.0271843 ]\n",
            " [-1.24351373]\n",
            " [ 1.64646558]\n",
            " [ 0.8207572 ]\n",
            " [ 1.13039784]\n",
            " [ 1.64646558]\n",
            " [-0.10816472]\n",
            " [-0.93387309]\n",
            " [ 1.0271843 ]\n",
            " [-1.34672727]\n",
            " [ 0.20147592]\n",
            " [-0.41780536]\n",
            " [-0.31459181]\n",
            " [-1.14030018]\n",
            " [-1.03708664]\n",
            " [-0.93387309]\n",
            " [-0.83065954]\n",
            " [ 1.74967912]\n",
            " [-0.31459181]\n",
            " [-1.03708664]\n",
            " [-0.62423245]\n",
            " [ 0.40790302]\n",
            " [-0.62423245]\n",
            " [ 0.8207572 ]\n",
            " [ 0.09826238]\n",
            " [-0.10816472]\n",
            " [-0.41780536]\n",
            " [ 0.40790302]\n",
            " [-1.24351373]\n",
            " [-0.31459181]\n",
            " [-0.5210189 ]\n",
            " [ 0.40790302]\n",
            " [-1.03708664]\n",
            " [-0.41780536]\n",
            " [-1.24351373]\n",
            " [ 0.8207572 ]\n",
            " [-1.24351373]\n",
            " [-1.24351373]\n",
            " [ 1.23361139]\n",
            " [ 1.23361139]\n",
            " [-0.83065954]\n",
            " [-0.21137826]\n",
            " [ 0.09826238]\n",
            " [ 1.0271843 ]\n",
            " [-1.34672727]\n",
            " [ 1.23361139]\n",
            " [ 0.71754366]\n",
            " [-1.34672727]\n",
            " [-1.34672727]\n",
            " [-1.24351373]\n",
            " [-0.21137826]\n",
            " [-0.83065954]\n",
            " [ 0.30468947]\n",
            " [-1.24351373]\n",
            " [-1.03708664]\n",
            " [-1.14030018]\n",
            " [-1.34672727]\n",
            " [-0.83065954]\n",
            " [ 0.61433011]\n",
            " [-1.14030018]\n",
            " [-1.24351373]\n",
            " [ 1.0271843 ]\n",
            " [ 1.0271843 ]\n",
            " [-1.14030018]\n",
            " [-0.31459181]\n",
            " [ 0.92397075]\n",
            " [-0.21137826]\n",
            " [-0.41780536]\n",
            " [ 1.44003848]\n",
            " [-0.83065954]\n",
            " [ 0.20147592]\n",
            " [-1.24351373]\n",
            " [-1.03708664]\n",
            " [ 0.09826238]\n",
            " [-1.24351373]\n",
            " [ 0.8207572 ]\n",
            " [ 1.64646558]\n",
            " [-0.10816472]\n",
            " [ 1.64646558]\n",
            " [ 0.61433011]\n",
            " [-1.24351373]\n",
            " [-0.10816472]\n",
            " [-0.31459181]\n",
            " [ 1.44003848]\n",
            " [ 1.23361139]\n",
            " [-1.24351373]\n",
            " [-0.83065954]\n",
            " [ 1.0271843 ]\n",
            " [ 0.40790302]\n",
            " [ 0.09826238]\n",
            " [ 0.8207572 ]\n",
            " [-0.10816472]\n",
            " [ 1.64646558]\n",
            " [-0.93387309]\n",
            " [ 1.0271843 ]\n",
            " [ 1.0271843 ]\n",
            " [-0.21137826]\n",
            " [-0.10816472]\n",
            " [ 0.20147592]\n",
            " [-1.24351373]\n",
            " [ 0.20147592]\n",
            " [-0.00495117]\n",
            " [-0.83065954]\n",
            " [ 1.0271843 ]\n",
            " [ 1.44003848]\n",
            " [ 0.20147592]\n",
            " [ 0.40790302]\n",
            " [-0.93387309]\n",
            " [-0.21137826]\n",
            " [ 3.09145523]\n",
            " [-0.83065954]\n",
            " [-0.83065954]\n",
            " [ 1.0271843 ]\n",
            " [-1.24351373]\n",
            " [ 1.23361139]\n",
            " [ 0.61433011]\n",
            " [-0.10816472]\n",
            " [ 0.61433011]\n",
            " [ 1.0271843 ]\n",
            " [-0.21137826]\n",
            " [-0.62423245]\n",
            " [-0.10816472]\n",
            " [-0.00495117]\n",
            " [-0.727446  ]\n",
            " [-1.24351373]\n",
            " [-0.727446  ]\n",
            " [-1.14030018]\n",
            " [ 0.8207572 ]\n",
            " [ 1.64646558]\n",
            " [-1.03708664]\n",
            " [ 1.64646558]\n",
            " [-0.10816472]\n",
            " [-1.14030018]\n",
            " [ 1.85289267]\n",
            " [-0.00495117]\n",
            " [-1.14030018]\n",
            " [ 1.44003848]\n",
            " [-0.31459181]\n",
            " [-1.24351373]\n",
            " [ 1.64646558]\n",
            " [-0.727446  ]\n",
            " [-0.00495117]\n",
            " [ 1.44003848]\n",
            " [ 1.23361139]\n",
            " [-0.41780536]\n",
            " [ 1.85289267]\n",
            " [-0.93387309]\n",
            " [-0.727446  ]\n",
            " [ 0.40790302]\n",
            " [ 0.61433011]\n",
            " [ 1.44003848]\n",
            " [ 2.05931976]\n",
            " [-0.10816472]\n",
            " [-0.10816472]\n",
            " [-1.14030018]\n",
            " [-0.62423245]\n",
            " [ 0.40790302]\n",
            " [ 0.61433011]\n",
            " [-1.24351373]\n",
            " [-0.21137826]\n",
            " [-0.10816472]\n",
            " [-1.03708664]\n",
            " [ 1.64646558]\n",
            " [-0.5210189 ]\n",
            " [ 0.20147592]\n",
            " [-1.14030018]\n",
            " [-0.21137826]\n",
            " [-1.24351373]\n",
            " [ 1.64646558]\n",
            " [ 0.40790302]\n",
            " [ 1.23361139]\n",
            " [-1.14030018]\n",
            " [ 1.0271843 ]\n",
            " [-0.83065954]\n",
            " [-0.41780536]\n",
            " [-0.93387309]\n",
            " [-1.03708664]\n",
            " [-1.14030018]\n",
            " [-1.34672727]\n",
            " [-1.24351373]\n",
            " [-1.03708664]\n",
            " [-0.41780536]\n",
            " [-1.03708664]\n",
            " [ 0.40790302]\n",
            " [ 1.64646558]\n",
            " [-0.10816472]\n",
            " [ 0.61433011]\n",
            " [ 0.8207572 ]\n",
            " [ 1.44003848]\n",
            " [-0.31459181]\n",
            " [ 1.23361139]\n",
            " [-0.21137826]\n",
            " [ 1.0271843 ]\n",
            " [ 1.44003848]\n",
            " [ 1.44003848]\n",
            " [-0.83065954]\n",
            " [ 0.61433011]\n",
            " [ 1.54325203]\n",
            " [-1.14030018]\n",
            " [-1.34672727]\n",
            " [ 1.44003848]\n",
            " [-0.00495117]\n",
            " [ 0.40790302]\n",
            " [ 2.47217395]\n",
            " [ 2.05931976]\n",
            " [-0.727446  ]\n",
            " [-1.34672727]\n",
            " [-0.62423245]\n",
            " [-1.03708664]\n",
            " [ 1.44003848]\n",
            " [-1.24351373]\n",
            " [-1.24351373]\n",
            " [-0.83065954]\n",
            " [-0.10816472]\n",
            " [ 0.40790302]\n",
            " [ 0.61433011]\n",
            " [-0.10816472]\n",
            " [ 0.71754366]\n",
            " [ 0.40790302]\n",
            " [ 0.20147592]\n",
            " [-1.03708664]\n",
            " [ 1.23361139]\n",
            " [-1.34672727]\n",
            " [ 0.40790302]\n",
            " [ 1.44003848]\n",
            " [-0.727446  ]\n",
            " [-0.62423245]\n",
            " [-1.03708664]\n",
            " [ 0.61433011]\n",
            " [-0.31459181]\n",
            " [-0.10816472]\n",
            " [-1.24351373]\n",
            " [ 1.64646558]\n",
            " [ 0.09826238]\n",
            " [-0.93387309]\n",
            " [ 0.40790302]\n",
            " [-0.31459181]\n",
            " [-0.00495117]\n",
            " [-1.24351373]\n",
            " [ 1.85289267]\n",
            " [ 0.61433011]\n",
            " [-0.21137826]\n",
            " [-0.10816472]\n",
            " [-1.14030018]\n",
            " [-0.83065954]\n",
            " [-0.83065954]\n",
            " [ 1.64646558]\n",
            " [-1.34672727]\n",
            " [ 1.54325203]\n",
            " [ 1.23361139]\n",
            " [ 0.40790302]\n",
            " [-0.21137826]\n",
            " [ 0.20147592]\n",
            " [-0.41780536]\n",
            " [ 1.23361139]\n",
            " [-0.00495117]\n",
            " [ 1.64646558]\n",
            " [ 1.0271843 ]\n",
            " [-0.41780536]\n",
            " [-1.34672727]\n",
            " [-0.62423245]\n",
            " [-1.03708664]\n",
            " [-0.21137826]\n",
            " [ 1.23361139]\n",
            " [ 1.0271843 ]]\n"
          ]
        }
      ]
    },
    {
      "cell_type": "code",
      "source": [
        "#Baseline model\n",
        "# define baseline model\n",
        "def baseline_model():\n",
        "  # create model\n",
        "  model = Sequential()\n",
        "  model.add(Dense(16, input_dim=7, activation='relu'))\n",
        "  model.add(Dense(8, activation='relu'))\n",
        "  model.add(Dense(4, activation='relu'))\n",
        "  model.add(Dense(1, kernel_initializer='normal', activation='linear'))\n",
        "  # Compile model\n",
        "  model.compile(loss='mean_squared_error', optimizer='adam')\n",
        "  return model"
      ],
      "metadata": {
        "id": "dwrk0nPKtOXy"
      },
      "execution_count": 9,
      "outputs": []
    },
    {
      "cell_type": "code",
      "source": [
        "#Estimator\n",
        "estimator = KerasRegressor(model=baseline_model, epochs=200, batch_size=5, verbose=0)\n",
        "kfold = KFold(n_splits=10, shuffle=True, random_state=seed)\n",
        "cv_results = cross_validate(estimator, X_train_scaled, y_train_scaled, cv=kfold, return_estimator=True, scoring='neg_mean_squared_error')\n",
        "print(cv_results['test_score'].mean())"
      ],
      "metadata": {
        "colab": {
          "base_uri": "https://localhost:8080/"
        },
        "id": "h0IsJRyLtRnj",
        "outputId": "609c8d8d-e1b6-46a3-abb3-81a7124376e5"
      },
      "execution_count": 10,
      "outputs": [
        {
          "output_type": "stream",
          "name": "stdout",
          "text": [
            "-0.10263064348037274\n"
          ]
        }
      ]
    },
    {
      "cell_type": "code",
      "source": [
        "#Validation\n",
        "yhat = []\n",
        "for i in range(len(cv_results['estimator'])):\n",
        "  yhat.append(cv_results['estimator'][i].predict(X_test_scaled))\n",
        "\n",
        "yhat_decoded = []\n",
        "for estimates in yhat:\n",
        "  #print(estimates)\n",
        "  yhat_decoded.append(scaler_y.inverse_transform(estimates))"
      ],
      "metadata": {
        "id": "V6uCyBNftUkh"
      },
      "execution_count": 11,
      "outputs": []
    },
    {
      "cell_type": "code",
      "source": [
        "pred_final = []\n",
        "for i in range(len(y_test)):\n",
        "  sum = 0\n",
        "  for j in range(0, 10):\n",
        "    sum += yhat_decoded[j][i]\n",
        "  pred_final.append(sum/10)\n",
        "\n",
        "for index in range(len(y_test)):\n",
        "  print(y_test[index], pred_final[index])"
      ],
      "metadata": {
        "colab": {
          "base_uri": "https://localhost:8080/"
        },
        "id": "wmA_Ar36tZAr",
        "outputId": "72234ff1-8673-4166-c53d-c4f031965f9b"
      },
      "execution_count": 13,
      "outputs": [
        {
          "output_type": "stream",
          "name": "stdout",
          "text": [
            "[180000.] [177976.73]\n",
            "[65000.] [98376.19]\n",
            "[125000.] [129249.3]\n",
            "[80000.] [90105.805]\n",
            "[140000.] [153553.78]\n",
            "[160000.] [154801.86]\n",
            "[160000.] [134692.25]\n",
            "[120000.] [109809.61]\n",
            "[50000.] [49902.5]\n",
            "[95000.] [95987.08]\n",
            "[140000.] [139731.27]\n",
            "[160000.] [165116.42]\n",
            "[35000.] [42040.664]\n",
            "[95000.] [98473.49]\n",
            "[110000.] [131376.72]\n",
            "[50000.] [49902.5]\n",
            "[90000.] [65719.28]\n",
            "[50000.] [50937.914]\n",
            "[90000.] [83627.36]\n",
            "[95000.] [104319.81]\n",
            "[110000.] [115126.625]\n",
            "[105000.] [110952.14]\n",
            "[190000.] [158390.2]\n",
            "[70000.] [59484.395]\n",
            "[100000.] [90105.805]\n",
            "[50000.] [50401.008]\n",
            "[160000.] [165120.92]\n",
            "[40000.] [40478.945]\n",
            "[120000.] [105094.46]\n",
            "[170000.] [157651.47]\n",
            "[45000.] [45291.133]\n",
            "[100000.] [115572.586]\n",
            "[60000.] [48829.65]\n",
            "[150000.] [150310.72]\n",
            "[110000.] [97493.28]\n",
            "[35000.] [35377.99]\n",
            "[180000.] [175030.89]\n",
            "[50000.] [41602.965]\n"
          ]
        }
      ]
    },
    {
      "cell_type": "code",
      "source": [
        "#RMS SCORE\n",
        "from sklearn.metrics import r2_score\n",
        "print(r2_score(y_test, pred_final))"
      ],
      "metadata": {
        "colab": {
          "base_uri": "https://localhost:8080/"
        },
        "id": "482tiDOZt9bb",
        "outputId": "31f1087b-523c-48fb-c925-7c0921c1bb23"
      },
      "execution_count": 14,
      "outputs": [
        {
          "output_type": "stream",
          "name": "stdout",
          "text": [
            "0.927387944903478\n"
          ]
        }
      ]
    }
  ]
}