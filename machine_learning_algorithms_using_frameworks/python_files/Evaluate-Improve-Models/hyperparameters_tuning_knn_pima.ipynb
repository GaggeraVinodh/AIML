{
 "cells": [
  {
   "cell_type": "markdown",
   "metadata": {},
   "source": [
    "# Hyperparameter tuning\n",
    "This notebook explores hyperparameter tuning. It uses the pima indians dataset."
   ]
  },
  {
   "cell_type": "markdown",
   "metadata": {},
   "source": [
    "## Import"
   ]
  },
  {
   "cell_type": "code",
   "execution_count": 64,
   "metadata": {},
   "outputs": [],
   "source": [
    "# Core libraries\n",
    "import pandas as pd\n",
    "\n",
    "# Sklearn processing\n",
    "from sklearn.preprocessing import MinMaxScaler\n",
    "from sklearn.model_selection import KFold\n",
    "from sklearn.model_selection import GridSearchCV\n",
    "\n",
    "# Sklearn regression algorithms\n",
    "from sklearn.neighbors import KNeighborsClassifier\n",
    "\n",
    "# Sklearn regression model evaluation functions\n",
    "from sklearn.metrics import r2_score"
   ]
  },
  {
   "cell_type": "markdown",
   "metadata": {},
   "source": [
    "## Load data, split into X and y and scale data"
   ]
  },
  {
   "cell_type": "code",
   "execution_count": 65,
   "metadata": {},
   "outputs": [],
   "source": [
    "# Load Boston housing data set\n",
    "dataframe = pd.read_csv(\"..\\..\\..\\datasets\\pima-indians_classification_train.csv\")\n",
    "\n",
    "##names = ['preg', 'plas', 'pres', 'skin', 'test', 'mass', 'pedi', 'age', 'class']\n",
    "array = dataframe.values\n",
    "X = array[:,0:8]\n",
    "y = array[:,8]"
   ]
  },
  {
   "cell_type": "markdown",
   "metadata": {},
   "source": [
    "## Build a model with default hyperparameters"
   ]
  },
  {
   "cell_type": "code",
   "execution_count": 66,
   "metadata": {},
   "outputs": [],
   "source": [
    "# Create an empty model\n",
    "model = KNeighborsClassifier()"
   ]
  },
  {
   "cell_type": "code",
   "execution_count": 67,
   "metadata": {},
   "outputs": [
    {
     "data": {
      "text/plain": [
       "KNeighborsClassifier()"
      ]
     },
     "execution_count": 67,
     "metadata": {},
     "output_type": "execute_result"
    }
   ],
   "source": [
    "# Inspect the model's default hyperparameters:\n",
    "model"
   ]
  },
  {
   "cell_type": "code",
   "execution_count": 68,
   "metadata": {},
   "outputs": [
    {
     "data": {
      "text/plain": [
       "{'algorithm': 'auto',\n",
       " 'leaf_size': 30,\n",
       " 'metric': 'minkowski',\n",
       " 'metric_params': None,\n",
       " 'n_jobs': None,\n",
       " 'n_neighbors': 5,\n",
       " 'p': 2,\n",
       " 'weights': 'uniform'}"
      ]
     },
     "execution_count": 68,
     "metadata": {},
     "output_type": "execute_result"
    }
   ],
   "source": [
    "# What hyperparameters can we tune?\n",
    "model.get_params()"
   ]
  },
  {
   "cell_type": "markdown",
   "metadata": {},
   "source": [
    "## Tune hyperparameters with grid search "
   ]
  },
  {
   "cell_type": "code",
   "execution_count": 69,
   "metadata": {},
   "outputs": [
    {
     "name": "stdout",
     "output_type": "stream",
     "text": [
      "0.7496986673457261\n",
      "KNeighborsClassifier(n_neighbors=23, weights='distance')\n",
      "{'n_neighbors': 23, 'weights': 'distance'}\n"
     ]
    }
   ],
   "source": [
    "# Select an algorithm\n",
    "algorithm = KNeighborsClassifier()\n",
    "\n",
    "# Create 3 folds\n",
    "seed = 13\n",
    "kfold = KFold(n_splits=5, shuffle=True, random_state=seed)\n",
    "\n",
    "# Define our candidate hyperparameters\n",
    "hp_candidates = [{'n_neighbors': [2,3,4,5,6,7,9,11,23], 'weights': ['uniform','distance']}]\n",
    "\n",
    "# Search for best hyperparameters\n",
    "grid = GridSearchCV(estimator=algorithm, param_grid=hp_candidates, cv=kfold, scoring='accuracy')\n",
    "grid.fit(X, y)\n",
    "\n",
    "# Get the results\n",
    "print(grid.best_score_)\n",
    "print(grid.best_estimator_)\n",
    "print(grid.best_params_)"
   ]
  },
  {
   "cell_type": "markdown",
   "metadata": {},
   "source": [
    "### Get a full breakdown of the grid search"
   ]
  },
  {
   "cell_type": "code",
   "execution_count": 70,
   "metadata": {
    "scrolled": false
   },
   "outputs": [
    {
     "data": {
      "text/plain": [
       "{'mean_fit_time': array([0.00219331, 0.0013989 , 0.00159969, 0.00199518, 0.00199938,\n",
       "        0.00200219, 0.0013958 , 0.00139956, 0.00199943, 0.001999  ,\n",
       "        0.00140004, 0.00199924, 0.00179944, 0.00199895, 0.00159969,\n",
       "        0.00139952, 0.00159893, 0.00179935]),\n",
       " 'std_fit_time': array([7.49011303e-04, 4.88636667e-04, 4.89609735e-04, 7.55843302e-06,\n",
       "        8.92080638e-07, 7.24321765e-06, 4.84789146e-04, 4.89648413e-04,\n",
       "        9.46494734e-07, 5.76164530e-07, 4.89843034e-04, 3.23406696e-07,\n",
       "        3.99518052e-04, 6.10649513e-07, 4.89901545e-04, 4.89493259e-04,\n",
       "        4.89375878e-04, 3.99951270e-04]),\n",
       " 'mean_score_time': array([0.01039968, 0.00199928, 0.00779939, 0.00179887, 0.00819449,\n",
       "        0.00179949, 0.00799475, 0.00219784, 0.00779481, 0.00199909,\n",
       "        0.00819345, 0.00199842, 0.00779505, 0.00219855, 0.00839448,\n",
       "        0.00259824, 0.00879378, 0.00284863]),\n",
       " 'std_score_time': array([3.50929855e-03, 6.31429713e-04, 7.44149997e-04, 3.99708759e-04,\n",
       "        3.99750322e-04, 3.99900460e-04, 1.33684595e-06, 3.99900119e-04,\n",
       "        3.99210062e-04, 2.78041453e-07, 3.99852208e-04, 5.00111031e-07,\n",
       "        3.99924021e-04, 3.99661274e-04, 4.88812537e-04, 4.89648691e-04,\n",
       "        3.98971944e-04, 4.35910306e-04]),\n",
       " 'param_n_neighbors': masked_array(data=[2, 2, 3, 3, 4, 4, 5, 5, 6, 6, 7, 7, 9, 9, 11, 11, 23,\n",
       "                    23],\n",
       "              mask=[False, False, False, False, False, False, False, False,\n",
       "                    False, False, False, False, False, False, False, False,\n",
       "                    False, False],\n",
       "        fill_value='?',\n",
       "             dtype=object),\n",
       " 'param_weights': masked_array(data=['uniform', 'distance', 'uniform', 'distance',\n",
       "                    'uniform', 'distance', 'uniform', 'distance',\n",
       "                    'uniform', 'distance', 'uniform', 'distance',\n",
       "                    'uniform', 'distance', 'uniform', 'distance',\n",
       "                    'uniform', 'distance'],\n",
       "              mask=[False, False, False, False, False, False, False, False,\n",
       "                    False, False, False, False, False, False, False, False,\n",
       "                    False, False],\n",
       "        fill_value='?',\n",
       "             dtype=object),\n",
       " 'params': [{'n_neighbors': 2, 'weights': 'uniform'},\n",
       "  {'n_neighbors': 2, 'weights': 'distance'},\n",
       "  {'n_neighbors': 3, 'weights': 'uniform'},\n",
       "  {'n_neighbors': 3, 'weights': 'distance'},\n",
       "  {'n_neighbors': 4, 'weights': 'uniform'},\n",
       "  {'n_neighbors': 4, 'weights': 'distance'},\n",
       "  {'n_neighbors': 5, 'weights': 'uniform'},\n",
       "  {'n_neighbors': 5, 'weights': 'distance'},\n",
       "  {'n_neighbors': 6, 'weights': 'uniform'},\n",
       "  {'n_neighbors': 6, 'weights': 'distance'},\n",
       "  {'n_neighbors': 7, 'weights': 'uniform'},\n",
       "  {'n_neighbors': 7, 'weights': 'distance'},\n",
       "  {'n_neighbors': 9, 'weights': 'uniform'},\n",
       "  {'n_neighbors': 9, 'weights': 'distance'},\n",
       "  {'n_neighbors': 11, 'weights': 'uniform'},\n",
       "  {'n_neighbors': 11, 'weights': 'distance'},\n",
       "  {'n_neighbors': 23, 'weights': 'uniform'},\n",
       "  {'n_neighbors': 23, 'weights': 'distance'}],\n",
       " 'split0_test_score': array([0.68181818, 0.66883117, 0.70779221, 0.7012987 , 0.71428571,\n",
       "        0.72727273, 0.71428571, 0.72077922, 0.71428571, 0.73376623,\n",
       "        0.68831169, 0.70779221, 0.73376623, 0.74025974, 0.73376623,\n",
       "        0.75324675, 0.74675325, 0.74675325]),\n",
       " 'split1_test_score': array([0.68181818, 0.70779221, 0.68831169, 0.69480519, 0.68181818,\n",
       "        0.7012987 , 0.71428571, 0.72077922, 0.68831169, 0.71428571,\n",
       "        0.69480519, 0.70779221, 0.72077922, 0.72727273, 0.73376623,\n",
       "        0.74025974, 0.72727273, 0.73376623]),\n",
       " 'split2_test_score': array([0.73856209, 0.71895425, 0.70588235, 0.69934641, 0.69934641,\n",
       "        0.71895425, 0.71895425, 0.7124183 , 0.73856209, 0.7124183 ,\n",
       "        0.73202614, 0.73202614, 0.73202614, 0.7254902 , 0.75163399,\n",
       "        0.74509804, 0.74509804, 0.75163399]),\n",
       " 'split3_test_score': array([0.70588235, 0.67973856, 0.73202614, 0.7254902 , 0.73202614,\n",
       "        0.7124183 , 0.74509804, 0.7254902 , 0.74509804, 0.7254902 ,\n",
       "        0.7254902 , 0.7254902 , 0.73856209, 0.73202614, 0.73202614,\n",
       "        0.7254902 , 0.75816993, 0.76470588]),\n",
       " 'split4_test_score': array([0.69934641, 0.67973856, 0.66666667, 0.67320261, 0.70588235,\n",
       "        0.67320261, 0.70588235, 0.69281046, 0.71895425, 0.7124183 ,\n",
       "        0.73856209, 0.7254902 , 0.76470588, 0.75163399, 0.76470588,\n",
       "        0.73856209, 0.76470588, 0.75163399]),\n",
       " 'mean_test_score': array([0.70148544, 0.69101095, 0.70013581, 0.69882862, 0.70667176,\n",
       "        0.70662932, 0.71970121, 0.71445548, 0.72104236, 0.71967575,\n",
       "        0.71583906, 0.71971819, 0.73796791, 0.73533656, 0.7431797 ,\n",
       "        0.74053136, 0.74839997, 0.74969867]),\n",
       " 'std_test_score': array([0.02084317, 0.01901849, 0.02176525, 0.01667387, 0.01656986,\n",
       "        0.01874741, 0.01338038, 0.0116138 , 0.0200346 , 0.00856438,\n",
       "        0.02035525, 0.01002573, 0.01458549, 0.00962059, 0.0129343 ,\n",
       "        0.00908542, 0.01281647, 0.00995214]),\n",
       " 'rank_test_score': array([15, 18, 16, 17, 13, 14,  9, 12,  7, 10, 11,  8,  5,  6,  3,  4,  2,\n",
       "         1])}"
      ]
     },
     "execution_count": 70,
     "metadata": {},
     "output_type": "execute_result"
    }
   ],
   "source": [
    "grid.cv_results_"
   ]
  },
  {
   "cell_type": "markdown",
   "metadata": {},
   "source": [
    "### Prove that best_score_ is the mean of all the k-fold scores\n",
    "Here's a little check to see how best_score_ is derived from cv_results_"
   ]
  },
  {
   "cell_type": "code",
   "execution_count": 71,
   "metadata": {},
   "outputs": [
    {
     "data": {
      "text/plain": [
       "17"
      ]
     },
     "execution_count": 71,
     "metadata": {},
     "output_type": "execute_result"
    }
   ],
   "source": [
    "# Get the index of the best hyperparameter combination chosen by GridSearchCv()\n",
    "grid.best_index_"
   ]
  },
  {
   "cell_type": "code",
   "execution_count": 72,
   "metadata": {},
   "outputs": [
    {
     "name": "stdout",
     "output_type": "stream",
     "text": [
      "0.7496986673457261\n",
      "0.009952139149712413\n"
     ]
    }
   ],
   "source": [
    "# Get the mean and std of the k-fold scores for the best hyperparameter combination\n",
    "print(grid.cv_results_['mean_test_score'][grid.best_index_])\n",
    "print(grid.cv_results_['std_test_score'][grid.best_index_])"
   ]
  },
  {
   "cell_type": "code",
   "execution_count": null,
   "metadata": {},
   "outputs": [],
   "source": []
  }
 ],
 "metadata": {
  "kernelspec": {
   "display_name": "Python 3",
   "language": "python",
   "name": "python3"
  },
  "language_info": {
   "codemirror_mode": {
    "name": "ipython",
    "version": 3
   },
   "file_extension": ".py",
   "mimetype": "text/x-python",
   "name": "python",
   "nbconvert_exporter": "python",
   "pygments_lexer": "ipython3",
   "version": "3.8.5"
  }
 },
 "nbformat": 4,
 "nbformat_minor": 2
}
