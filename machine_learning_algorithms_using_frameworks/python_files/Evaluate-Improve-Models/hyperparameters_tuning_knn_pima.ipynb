{
 "cells": [
  {
   "cell_type": "markdown",
   "metadata": {},
   "source": [
    "# Hyperparameter tuning\n",
    "This notebook explores hyperparameter tuning. It uses the pima indians dataset."
   ]
  },
  {
   "cell_type": "markdown",
   "metadata": {},
   "source": [
    "## Import"
   ]
  },
  {
   "cell_type": "code",
   "execution_count": 1,
   "metadata": {},
   "outputs": [],
   "source": [
    "# Core libraries\n",
    "import pandas as pd\n",
    "\n",
    "# Sklearn processing\n",
    "from sklearn.preprocessing import MinMaxScaler\n",
    "from sklearn.model_selection import KFold\n",
    "from sklearn.model_selection import GridSearchCV\n",
    "\n",
    "# Sklearn regression algorithms\n",
    "from sklearn.neighbors import KNeighborsClassifier\n",
    "\n",
    "# Sklearn regression model evaluation functions\n",
    "from sklearn.metrics import r2_score"
   ]
  },
  {
   "cell_type": "markdown",
   "metadata": {},
   "source": [
    "## Load data, split into X and y and scale data"
   ]
  },
  {
   "cell_type": "code",
   "execution_count": 2,
   "metadata": {},
   "outputs": [],
   "source": [
    "# Load Boston housing data set\n",
    "dataframe = pd.read_csv(\"..\\..\\..\\datasets\\pima-indians_classification_train.csv\")\n",
    "\n",
    "##names = ['preg', 'plas', 'pres', 'skin', 'test', 'mass', 'pedi', 'age', 'class']\n",
    "array = dataframe.values\n",
    "X = array[:,0:8]\n",
    "y = array[:,8]"
   ]
  },
  {
   "cell_type": "markdown",
   "metadata": {},
   "source": [
    "## Build a model with default hyperparameters"
   ]
  },
  {
   "cell_type": "code",
   "execution_count": 3,
   "metadata": {},
   "outputs": [],
   "source": [
    "# Create an empty model\n",
    "model = KNeighborsClassifier()"
   ]
  },
  {
   "cell_type": "code",
   "execution_count": 4,
   "metadata": {},
   "outputs": [
    {
     "data": {
      "text/plain": [
       "KNeighborsClassifier()"
      ]
     },
     "execution_count": 4,
     "metadata": {},
     "output_type": "execute_result"
    }
   ],
   "source": [
    "# Inspect the model's default hyperparameters:\n",
    "model"
   ]
  },
  {
   "cell_type": "code",
   "execution_count": 5,
   "metadata": {},
   "outputs": [
    {
     "data": {
      "text/plain": [
       "{'algorithm': 'auto',\n",
       " 'leaf_size': 30,\n",
       " 'metric': 'minkowski',\n",
       " 'metric_params': None,\n",
       " 'n_jobs': None,\n",
       " 'n_neighbors': 5,\n",
       " 'p': 2,\n",
       " 'weights': 'uniform'}"
      ]
     },
     "execution_count": 5,
     "metadata": {},
     "output_type": "execute_result"
    }
   ],
   "source": [
    "# What hyperparameters can we tune?\n",
    "model.get_params()"
   ]
  },
  {
   "cell_type": "markdown",
   "metadata": {},
   "source": [
    "## Tune hyperparameters with grid search "
   ]
  },
  {
   "cell_type": "code",
   "execution_count": 6,
   "metadata": {},
   "outputs": [
    {
     "name": "stdout",
     "output_type": "stream",
     "text": [
      "0.7496986673457261\n",
      "KNeighborsClassifier(n_neighbors=23, weights='distance')\n",
      "{'n_neighbors': 23, 'weights': 'distance'}\n"
     ]
    }
   ],
   "source": [
    "# Select an algorithm\n",
    "algorithm = KNeighborsClassifier()\n",
    "\n",
    "# Create 5 folds\n",
    "seed = 13\n",
    "kfold = KFold(n_splits=5, shuffle=True, random_state=seed)\n",
    "\n",
    "# Define our candidate hyperparameters\n",
    "hp_candidates = [{'n_neighbors': [2,3,4,5,6,7,9,11,23], 'weights': ['uniform','distance']}]\n",
    "\n",
    "# Search for best hyperparameters\n",
    "grid = GridSearchCV(estimator=algorithm, param_grid=hp_candidates, cv=kfold, scoring='accuracy')\n",
    "grid.fit(X, y)\n",
    "\n",
    "# Get the results\n",
    "print(grid.best_score_)\n",
    "print(grid.best_estimator_)\n",
    "print(grid.best_params_)"
   ]
  },
  {
   "cell_type": "markdown",
   "metadata": {},
   "source": [
    "### Get a full breakdown of the grid search"
   ]
  },
  {
   "cell_type": "code",
   "execution_count": 8,
   "metadata": {
    "scrolled": false
   },
   "outputs": [
    {
     "data": {
      "text/plain": [
       "{'mean_fit_time': array([0.00279856, 0.00180135, 0.00200129, 0.00199842, 0.00199866,\n",
       "        0.00159869, 0.00199432, 0.00200129, 0.00180421, 0.00180345,\n",
       "        0.00220256, 0.00199718, 0.00219841, 0.00199671, 0.00219369,\n",
       "        0.00199332, 0.00220003, 0.00179892]),\n",
       " 'std_fit_time': array([7.48075425e-04, 4.01495800e-04, 7.81925708e-06, 1.00022206e-06,\n",
       "        6.31806661e-04, 4.89181187e-04, 6.31258876e-04, 6.32690517e-04,\n",
       "        4.02502101e-04, 4.02331741e-04, 3.97961430e-04, 2.69064636e-06,\n",
       "        3.99137152e-04, 6.33043027e-04, 4.02149912e-04, 1.24751026e-05,\n",
       "        4.00715762e-04, 3.99376083e-04]),\n",
       " 'mean_score_time': array([0.01239367, 0.00239582, 0.01039076, 0.00219951, 0.00899415,\n",
       "        0.00219975, 0.00979691, 0.00259986, 0.00878429, 0.00299397,\n",
       "        0.00919375, 0.00319934, 0.00999479, 0.00240192, 0.00959983,\n",
       "        0.00260825, 0.01119113, 0.00339904]),\n",
       " 'std_score_time': array([0.00542247, 0.0004903 , 0.00101845, 0.00040026, 0.00063279,\n",
       "        0.00040181, 0.00116355, 0.00049078, 0.00132637, 0.00126122,\n",
       "        0.00074831, 0.0009823 , 0.00167442, 0.00048595, 0.00136148,\n",
       "        0.0004842 , 0.00299054, 0.00049064]),\n",
       " 'param_n_neighbors': masked_array(data=[2, 2, 3, 3, 4, 4, 5, 5, 6, 6, 7, 7, 9, 9, 11, 11, 23,\n",
       "                    23],\n",
       "              mask=[False, False, False, False, False, False, False, False,\n",
       "                    False, False, False, False, False, False, False, False,\n",
       "                    False, False],\n",
       "        fill_value='?',\n",
       "             dtype=object),\n",
       " 'param_weights': masked_array(data=['uniform', 'distance', 'uniform', 'distance',\n",
       "                    'uniform', 'distance', 'uniform', 'distance',\n",
       "                    'uniform', 'distance', 'uniform', 'distance',\n",
       "                    'uniform', 'distance', 'uniform', 'distance',\n",
       "                    'uniform', 'distance'],\n",
       "              mask=[False, False, False, False, False, False, False, False,\n",
       "                    False, False, False, False, False, False, False, False,\n",
       "                    False, False],\n",
       "        fill_value='?',\n",
       "             dtype=object),\n",
       " 'params': [{'n_neighbors': 2, 'weights': 'uniform'},\n",
       "  {'n_neighbors': 2, 'weights': 'distance'},\n",
       "  {'n_neighbors': 3, 'weights': 'uniform'},\n",
       "  {'n_neighbors': 3, 'weights': 'distance'},\n",
       "  {'n_neighbors': 4, 'weights': 'uniform'},\n",
       "  {'n_neighbors': 4, 'weights': 'distance'},\n",
       "  {'n_neighbors': 5, 'weights': 'uniform'},\n",
       "  {'n_neighbors': 5, 'weights': 'distance'},\n",
       "  {'n_neighbors': 6, 'weights': 'uniform'},\n",
       "  {'n_neighbors': 6, 'weights': 'distance'},\n",
       "  {'n_neighbors': 7, 'weights': 'uniform'},\n",
       "  {'n_neighbors': 7, 'weights': 'distance'},\n",
       "  {'n_neighbors': 9, 'weights': 'uniform'},\n",
       "  {'n_neighbors': 9, 'weights': 'distance'},\n",
       "  {'n_neighbors': 11, 'weights': 'uniform'},\n",
       "  {'n_neighbors': 11, 'weights': 'distance'},\n",
       "  {'n_neighbors': 23, 'weights': 'uniform'},\n",
       "  {'n_neighbors': 23, 'weights': 'distance'}],\n",
       " 'split0_test_score': array([0.68181818, 0.66883117, 0.70779221, 0.7012987 , 0.71428571,\n",
       "        0.72727273, 0.71428571, 0.72077922, 0.71428571, 0.73376623,\n",
       "        0.68831169, 0.70779221, 0.73376623, 0.74025974, 0.73376623,\n",
       "        0.75324675, 0.74675325, 0.74675325]),\n",
       " 'split1_test_score': array([0.68181818, 0.70779221, 0.68831169, 0.69480519, 0.68181818,\n",
       "        0.7012987 , 0.71428571, 0.72077922, 0.68831169, 0.71428571,\n",
       "        0.69480519, 0.70779221, 0.72077922, 0.72727273, 0.73376623,\n",
       "        0.74025974, 0.72727273, 0.73376623]),\n",
       " 'split2_test_score': array([0.73856209, 0.71895425, 0.70588235, 0.69934641, 0.69934641,\n",
       "        0.71895425, 0.71895425, 0.7124183 , 0.73856209, 0.7124183 ,\n",
       "        0.73202614, 0.73202614, 0.73202614, 0.7254902 , 0.75163399,\n",
       "        0.74509804, 0.74509804, 0.75163399]),\n",
       " 'split3_test_score': array([0.70588235, 0.67973856, 0.73202614, 0.7254902 , 0.73202614,\n",
       "        0.7124183 , 0.74509804, 0.7254902 , 0.74509804, 0.7254902 ,\n",
       "        0.7254902 , 0.7254902 , 0.73856209, 0.73202614, 0.73202614,\n",
       "        0.7254902 , 0.75816993, 0.76470588]),\n",
       " 'split4_test_score': array([0.69934641, 0.67973856, 0.66666667, 0.67320261, 0.70588235,\n",
       "        0.67320261, 0.70588235, 0.69281046, 0.71895425, 0.7124183 ,\n",
       "        0.73856209, 0.7254902 , 0.76470588, 0.75163399, 0.76470588,\n",
       "        0.73856209, 0.76470588, 0.75163399]),\n",
       " 'mean_test_score': array([0.70148544, 0.69101095, 0.70013581, 0.69882862, 0.70667176,\n",
       "        0.70662932, 0.71970121, 0.71445548, 0.72104236, 0.71967575,\n",
       "        0.71583906, 0.71971819, 0.73796791, 0.73533656, 0.7431797 ,\n",
       "        0.74053136, 0.74839997, 0.74969867]),\n",
       " 'std_test_score': array([0.02084317, 0.01901849, 0.02176525, 0.01667387, 0.01656986,\n",
       "        0.01874741, 0.01338038, 0.0116138 , 0.0200346 , 0.00856438,\n",
       "        0.02035525, 0.01002573, 0.01458549, 0.00962059, 0.0129343 ,\n",
       "        0.00908542, 0.01281647, 0.00995214]),\n",
       " 'rank_test_score': array([15, 18, 16, 17, 13, 14,  9, 12,  7, 10, 11,  8,  5,  6,  3,  4,  2,\n",
       "         1])}"
      ]
     },
     "execution_count": 8,
     "metadata": {},
     "output_type": "execute_result"
    }
   ],
   "source": [
    "grid.cv_results_"
   ]
  },
  {
   "cell_type": "markdown",
   "metadata": {},
   "source": [
    "### Prove that best_score_ is the mean of all the k-fold scores\n",
    "Here's a little check to see how best_score_ is derived from cv_results_"
   ]
  },
  {
   "cell_type": "code",
   "execution_count": 9,
   "metadata": {},
   "outputs": [
    {
     "data": {
      "text/plain": [
       "17"
      ]
     },
     "execution_count": 9,
     "metadata": {},
     "output_type": "execute_result"
    }
   ],
   "source": [
    "# Get the index of the best hyperparameter combination chosen by GridSearchCv()\n",
    "grid.best_index_"
   ]
  },
  {
   "cell_type": "code",
   "execution_count": 10,
   "metadata": {},
   "outputs": [
    {
     "name": "stdout",
     "output_type": "stream",
     "text": [
      "0.7496986673457261\n",
      "0.009952139149712413\n"
     ]
    }
   ],
   "source": [
    "# Get the mean and std of the k-fold scores for the best hyperparameter combination\n",
    "print(grid.cv_results_['mean_test_score'][grid.best_index_])\n",
    "print(grid.cv_results_['std_test_score'][grid.best_index_])"
   ]
  },
  {
   "cell_type": "code",
   "execution_count": null,
   "metadata": {},
   "outputs": [],
   "source": []
  }
 ],
 "metadata": {
  "kernelspec": {
   "display_name": "Python 3 (ipykernel)",
   "language": "python",
   "name": "python3"
  },
  "language_info": {
   "codemirror_mode": {
    "name": "ipython",
    "version": 3
   },
   "file_extension": ".py",
   "mimetype": "text/x-python",
   "name": "python",
   "nbconvert_exporter": "python",
   "pygments_lexer": "ipython3",
   "version": "3.9.7"
  }
 },
 "nbformat": 4,
 "nbformat_minor": 2
}
