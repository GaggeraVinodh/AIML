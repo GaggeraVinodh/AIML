{
 "cells": [
  {
   "cell_type": "code",
   "execution_count": null,
   "metadata": {},
   "outputs": [],
   "source": []
  },
  {
   "cell_type": "code",
   "execution_count": 2,
   "metadata": {},
   "outputs": [
    {
     "name": "stdout",
     "output_type": "stream",
     "text": [
      "\n",
      "The model we are using is  LinearRegression()\n",
      "\n",
      "Give number of years of experience  7\n",
      "\n",
      "The number of years of experience is  [[7.0]]\n",
      "\n",
      "The salary for the number of years of experience is  [92237.78934589]\n",
      "\n",
      "Can I proceed\n",
      "\n"
     ]
    },
    {
     "data": {
      "image/png": "[encoded data removed]",
      "text/plain": [
       "<Figure size 432x288 with 1 Axes>"
      ]
     },
     "metadata": {
      "needs_background": "light"
     },
     "output_type": "display_data"
    },
    {
     "name": "stdout",
     "output_type": "stream",
     "text": [
      "\n",
      "The test input (number of years of experience) is as follows \n",
      "\n",
      "[[ 1.5]\n",
      " [10.3]\n",
      " [ 4.1]\n",
      " [ 3.9]\n",
      " [ 9.5]\n",
      " [ 8.7]\n",
      " [ 9.6]\n",
      " [ 4. ]\n",
      " [ 5.3]\n",
      " [ 7.9]]\n",
      "\n",
      "The output (salary) for the test input is as follows \n",
      "\n",
      "[ 40835.10590871 123079.39940819  65134.55626083  63265.36777221\n",
      " 115602.64545369 108125.8914992  116537.23969801  64199.96201652\n",
      "  76349.68719258 100649.1375447 ]\n"
     ]
    }
   ],
   "source": [
    "\n",
    "# python implementation of simple Linear Regression on salary data of software engineers\n",
    "\n",
    "# import the libraries\n",
    "import numpy as np\n",
    "import matplotlib.pyplot as plt\n",
    "import pandas as pd\n",
    "from sklearn.model_selection import train_test_split\n",
    "from sklearn.linear_model import LinearRegression\n",
    "\n",
    "\n",
    "# step 1: reading the data and splitting it to input and output\n",
    "dataset = pd.read_csv('../../datasets/salary_regression_train.csv')\n",
    "inputx = dataset.iloc[:, :-1].values\n",
    "outputy = dataset.iloc[:, 1].values\n",
    "\n",
    "\n",
    "# step 2: select one thirds of the data for testing and two thirds for training\n",
    "input_train, input_test, output_train, output_test = train_test_split(inputx, outputy, test_size = 1/3, random_state = 0)\n",
    "\n",
    "\n",
    "# step 3: selecting the simple Linear Regression model\n",
    "model = LinearRegression()\n",
    "print(\"\\nThe model we are using is \", model.fit(input_train, output_train))\n",
    "\n",
    "\n",
    "# step 4: testing or model prediction using testinput\n",
    "years = float(input(\"\\nGive number of years of experience  \"))\n",
    "testinput = [[years]]\n",
    "predicted_output = model.predict(testinput)\n",
    "print('\\nThe number of years of experience is ',testinput) \n",
    "print('\\nThe salary for the number of years of experience is ',predicted_output) \n",
    "yes = input(\"\\nCan I proceed\\n\")\n",
    "\n",
    "\n",
    "# step 5: Visualising the training results\n",
    "plt.scatter(input_train, output_train, color = 'red')\n",
    "plt.plot(input_train, model.predict(input_train), color = 'yellow')\n",
    "plt.title('Salary vs Experience (Training set)')\n",
    "plt.xlabel('Years of Experience')\n",
    "plt.ylabel('Salary')\n",
    "plt.show()\n",
    "\n",
    "\n",
    "# step 6: Printing the testing results\n",
    "print(\"\\nThe test input (number of years of experience) is as follows \\n\")\n",
    "print(input_test)\n",
    "# model predicting the Test set results\n",
    "predicted_output = model.predict(input_test)\n",
    "print(\"\\nThe output (salary) for the test input is as follows \\n\")\n",
    "print(predicted_output)\n"
   ]
  },
  {
   "cell_type": "code",
   "execution_count": null,
   "metadata": {},
   "outputs": [],
   "source": []
  }
 ],
 "metadata": {
  "kernelspec": {
   "display_name": "Python 3",
   "language": "python",
   "name": "python3"
  },
  "language_info": {
   "codemirror_mode": {
    "name": "ipython",
    "version": 3
   },
   "file_extension": ".py",
   "mimetype": "text/x-python",
   "name": "python",
   "nbconvert_exporter": "python",
   "pygments_lexer": "ipython3",
   "version": "3.8.5"
  }
 },
 "nbformat": 4,
 "nbformat_minor": 4
}
