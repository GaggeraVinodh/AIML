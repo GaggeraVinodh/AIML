{
 "cells": [
  {
   "cell_type": "code",
   "execution_count": 1,
   "metadata": {},
   "outputs": [
    {
     "name": "stdout",
     "output_type": "stream",
     "text": [
      "\n",
      "The model selected is KNeighborsClassifier()\n",
      "\n",
      "The parameters of the model are\n",
      "\n",
      " {'algorithm': 'auto', 'leaf_size': 30, 'metric': 'minkowski', 'metric_params': None, 'n_jobs': None, 'n_neighbors': 5, 'p': 2, 'weights': 'uniform'}\n",
      "\n",
      "\n",
      "The test inputs are\n",
      "\n",
      "    age  loanamount\n",
      "0   48      149000\n",
      "1   35      192000\n",
      "2   39        6750\n",
      "3   29        2000\n",
      "\n",
      "The test results are\n",
      "\n",
      " ['WillNotPay', 'WillNotPay', 'WillPay', 'WillPay']\n"
     ]
    }
   ],
   "source": [
    "\n",
    "# KNN Classification\n",
    "from pandas import read_csv\n",
    "from sklearn.neighbors import KNeighborsClassifier\n",
    "\n",
    "\n",
    "# step 1: reading the data and splitting it to input and output\n",
    "filename = '../../datasets/bankloan_classification_train.csv'\n",
    "headernames = ['age', 'loanamount', 'status']\n",
    "df = read_csv(filename, names=headernames)\n",
    "array = df.values\n",
    "inputx = array[:,0:2]\n",
    "outputy = array[:,2]\n",
    "\n",
    "\n",
    "# step 2: selecting the KNN model \n",
    "thismodel = KNeighborsClassifier()\n",
    "print(\"\\nThe model selected is\",thismodel)\n",
    "print(\"\\nThe parameters of the model are\\n\\n\",thismodel.get_params())\n",
    "#print(thismodel.set_params())\n",
    "\n",
    "\n",
    "# step 3: training the model\n",
    "thismodel.fit(inputx,outputy)\n",
    "\n",
    "\n",
    "# step 4: testing and model prediction\n",
    "filename = '../../datasets/bankloan_classification_test.csv'\n",
    "names = ['age', 'loanamount']\n",
    "newdataframe = read_csv(filename, names=names)\n",
    "array = newdataframe.values\n",
    "testinputz = array[0:4,0:2]\n",
    "print(\"\\n\\nThe test inputs are\\n\\n\",newdataframe)\n",
    "res=thismodel.predict(testinputz)\n",
    "\n",
    "\n",
    "# step 5: visualizing the test results\n",
    "reslist=[]\n",
    "for val in res:\n",
    "    if val==0:\n",
    "        reslist.append(\"WillNotPay\")\n",
    "    else:\n",
    "        reslist.append(\"WillPay\")\n",
    "print(\"\\nThe test results are\\n\\n\",reslist)\n",
    "#res=thismodel.predict(testinputz)\n",
    "#print(thismodel.predict(testinputz))\n"
   ]
  },
  {
   "cell_type": "code",
   "execution_count": null,
   "metadata": {},
   "outputs": [],
   "source": []
  }
 ],
 "metadata": {
  "kernelspec": {
   "display_name": "Python 3",
   "language": "python",
   "name": "python3"
  },
  "language_info": {
   "codemirror_mode": {
    "name": "ipython",
    "version": 3
   },
   "file_extension": ".py",
   "mimetype": "text/x-python",
   "name": "python",
   "nbconvert_exporter": "python",
   "pygments_lexer": "ipython3",
   "version": "3.8.5"
  }
 },
 "nbformat": 4,
 "nbformat_minor": 4
}
