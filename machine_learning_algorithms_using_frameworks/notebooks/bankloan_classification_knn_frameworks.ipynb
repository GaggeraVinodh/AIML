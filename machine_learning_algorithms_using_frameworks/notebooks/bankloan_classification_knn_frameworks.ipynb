{
 "cells": [
  {
   "cell_type": "markdown",
   "metadata": {},
   "source": [
    "# import the modules and frameworks"
   ]
  },
  {
   "cell_type": "code",
   "execution_count": 8,
   "metadata": {
    "ExecuteTime": {
     "end_time": "2021-04-13T06:37:41.229327Z",
     "start_time": "2021-04-13T06:37:41.211326Z"
    }
   },
   "outputs": [],
   "source": [
    "# KNN Classification\n",
    "from pandas import read_csv\n",
    "from sklearn.neighbors import KNeighborsClassifier"
   ]
  },
  {
   "cell_type": "markdown",
   "metadata": {},
   "source": [
    "# acquire the data"
   ]
  },
  {
   "cell_type": "code",
   "execution_count": 9,
   "metadata": {
    "ExecuteTime": {
     "end_time": "2021-04-13T06:37:42.379410Z",
     "start_time": "2021-04-13T06:37:42.367421Z"
    }
   },
   "outputs": [],
   "source": [
    "filename = 'https://raw.githubusercontent.com/enuguru/aiandml/master/datasets/bankloan_classification_train.csv'\n",
    "names = ['age', 'loanamount', 'status']\n",
    "df = read_csv(filename, names=names)"
   ]
  },
  {
   "cell_type": "markdown",
   "metadata": {},
   "source": [
    "# inspect the data and segregate the input and output"
   ]
  },
  {
   "cell_type": "code",
   "execution_count": 10,
   "metadata": {
    "ExecuteTime": {
     "end_time": "2021-04-13T06:37:43.388321Z",
     "start_time": "2021-04-13T06:37:43.367330Z"
    }
   },
   "outputs": [],
   "source": [
    "array = df.values\n",
    "inputx = array[:,0:2]\n",
    "outputy = array[:,2]"
   ]
  },
  {
   "cell_type": "markdown",
   "metadata": {},
   "source": [
    "# select the model"
   ]
  },
  {
   "cell_type": "code",
   "execution_count": 11,
   "metadata": {
    "ExecuteTime": {
     "end_time": "2021-04-13T06:37:44.397047Z",
     "start_time": "2021-04-13T06:37:44.386054Z"
    }
   },
   "outputs": [],
   "source": [
    "thismodel = KNeighborsClassifier()"
   ]
  },
  {
   "cell_type": "markdown",
   "metadata": {},
   "source": [
    "# train the model"
   ]
  },
  {
   "cell_type": "code",
   "execution_count": 12,
   "metadata": {},
   "outputs": [
    {
     "name": "stdout",
     "output_type": "stream",
     "text": [
      "KNeighborsClassifier()\n"
     ]
    }
   ],
   "source": [
    "print(thismodel.fit(inputx,outputy))"
   ]
  },
  {
   "cell_type": "code",
   "execution_count": 13,
   "metadata": {
    "ExecuteTime": {
     "end_time": "2021-04-13T06:37:45.356512Z",
     "start_time": "2021-04-13T06:37:45.328528Z"
    }
   },
   "outputs": [
    {
     "name": "stdout",
     "output_type": "stream",
     "text": [
      "   age  loanamount\n",
      "0   48      149000\n",
      "1   35      192000\n",
      "2   39        6750\n",
      "3   29        2000\n"
     ]
    }
   ],
   "source": [
    "filename = 'https://raw.githubusercontent.com/enuguru/aiandml/master/datasets/bankloan_classification_test.csv'\n",
    "names = ['age', 'loanamount']\n",
    "newdataframe = read_csv(filename, names=names)\n",
    "array = newdataframe.values\n",
    "testinputz = array[0:4,0:2]\n",
    "print(newdataframe)"
   ]
  },
  {
   "cell_type": "code",
   "execution_count": 14,
   "metadata": {
    "ExecuteTime": {
     "end_time": "2021-04-13T06:37:32.949519Z",
     "start_time": "2021-04-13T06:37:32.924535Z"
    }
   },
   "outputs": [
    {
     "name": "stdout",
     "output_type": "stream",
     "text": [
      "['WillNotPay', 'WillNotPay', 'WillPay', 'WillPay']\n"
     ]
    }
   ],
   "source": [
    "res=thismodel.predict(testinputz)\n",
    "reslist=[]\n",
    "for val in res:\n",
    "    if val==0:\n",
    "        reslist.append(\"WillNotPay\")\n",
    "    else:\n",
    "        reslist.append(\"WillPay\")\n",
    "print(reslist)"
   ]
  },
  {
   "cell_type": "code",
   "execution_count": 15,
   "metadata": {
    "ExecuteTime": {
     "end_time": "2021-04-13T06:37:34.007323Z",
     "start_time": "2021-04-13T06:37:33.992332Z"
    }
   },
   "outputs": [
    {
     "name": "stdout",
     "output_type": "stream",
     "text": [
      "[0 0 1 1]\n"
     ]
    }
   ],
   "source": [
    "res=thismodel.predict(testinputz)\n",
    "print(thismodel.predict(testinputz))"
   ]
  },
  {
   "cell_type": "code",
   "execution_count": null,
   "metadata": {},
   "outputs": [],
   "source": []
  }
 ],
 "metadata": {
  "kernelspec": {
   "display_name": "Python 3",
   "language": "python",
   "name": "python3"
  },
  "language_info": {
   "codemirror_mode": {
    "name": "ipython",
    "version": 3
   },
   "file_extension": ".py",
   "mimetype": "text/x-python",
   "name": "python",
   "nbconvert_exporter": "python",
   "pygments_lexer": "ipython3",
   "version": "3.8.5"
  }
 },
 "nbformat": 4,
 "nbformat_minor": 2
}
