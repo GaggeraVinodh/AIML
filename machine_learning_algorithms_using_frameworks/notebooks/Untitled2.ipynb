{
 "cells": [
  {
   "cell_type": "code",
   "execution_count": null,
   "metadata": {},
   "outputs": [],
   "source": [
    "# python implementation of simple Linear Regression on salary data of software engineers\n",
    "\n",
    "# import the libraries\n",
    "import numpy as np\n",
    "import matplotlib.pyplot as plt\n",
    "import pandas as pd\n",
    "from sklearn.model_selection import train_test_split\n",
    "from sklearn.linear_model import LinearRegression\n",
    "from sklearn.metrics import mean_squared_error\n",
    "from sklearn import model_selection"
   ]
  },
  {
   "cell_type": "code",
   "execution_count": null,
   "metadata": {},
   "outputs": [],
   "source": [
    "# step 1: reading the data and splitting it to input and output\n",
    "dataset = pd.read_csv('../../datasets/salary_regression_train.csv')\n",
    "inputx = dataset.iloc[:, :-1].values\n",
    "outputy = dataset.iloc[:, 1].values"
   ]
  },
  {
   "cell_type": "code",
   "execution_count": null,
   "metadata": {},
   "outputs": [],
   "source": [
    "# step 2: select one thirds of the data for testing and two thirds for training\n",
    "input_train, input_test, output_train, output_test = train_test_split(inputx, outputy, test_size = 1/4, random_state = 0)"
   ]
  },
  {
   "cell_type": "code",
   "execution_count": null,
   "metadata": {},
   "outputs": [],
   "source": [
    "# step 3: selecting the simple Linear Regression model\n",
    "model = LinearRegression()\n",
    "print(\"\\nThe parameters of the model are\\n\\n\",model.get_params())\n",
    "#print(model.set_params())\n",
    "print(\"\\nThe model we are using is \", model.fit(input_train, output_train))"
   ]
  },
  {
   "cell_type": "code",
   "execution_count": null,
   "metadata": {},
   "outputs": [],
   "source": [
    "\n",
    "\n",
    "# step 4: testing or model prediction using testinput\n",
    "years = float(input(\"\\nGive number of years of experience  \"))\n",
    "testinput = [[years]]\n",
    "predicted_output = model.predict(testinput)\n",
    "print('\\nThe number of years of experience is ',testinput) \n",
    "print('\\nThe salary for the number of years of experience is ',predicted_output) \n",
    "yes = input(\"\\nCan I proceed\\n\")\n"
   ]
  },
  {
   "cell_type": "code",
   "execution_count": null,
   "metadata": {},
   "outputs": [],
   "source": [
    "\n",
    "\n",
    "# step 5: Visualising the training results\n",
    "plt.scatter(input_train, output_train, color = 'red')\n",
    "plt.plot(input_train, model.predict(input_train), color = 'yellow')\n",
    "plt.title('Salary vs Experience (Training set)')\n",
    "plt.xlabel('Years of Experience')\n",
    "plt.ylabel('Salary')\n",
    "plt.show()\n",
    "\n"
   ]
  },
  {
   "cell_type": "code",
   "execution_count": null,
   "metadata": {},
   "outputs": [],
   "source": [
    "\n",
    "# step 6: Printing the testing results\n",
    "print(\"\\nThe test input (number of years of experience) is as follows \\n\")\n",
    "print(input_test)\n",
    "# model predicting the Test set results\n",
    "predicted_output = model.predict(input_test)\n",
    "print(\"\\nThe output (salary) for the test input is as follows \\n\")\n",
    "print(predicted_output)\n",
    "kfold = model_selection.KFold(n_splits=10, random_state=7, shuffle=True)\n",
    "scoring = 'neg_mean_absolute_error'\n",
    "results = model_selection.cross_val_score(model, input_train, output_train, cv=kfold, scoring=scoring)\n",
    "print(results)\n",
    "print(\"MAE: %.3f (%.3f)\" % (results.mean(), results.std()))"
   ]
  },
  {
   "cell_type": "code",
   "execution_count": null,
   "metadata": {},
   "outputs": [],
   "source": []
  }
 ],
 "metadata": {
  "kernelspec": {
   "display_name": "Python 3",
   "language": "python",
   "name": "python3"
  },
  "language_info": {
   "codemirror_mode": {
    "name": "ipython",
    "version": 3
   },
   "file_extension": ".py",
   "mimetype": "text/x-python",
   "name": "python",
   "nbconvert_exporter": "python",
   "pygments_lexer": "ipython3",
   "version": "3.8.5"
  }
 },
 "nbformat": 4,
 "nbformat_minor": 4
}
